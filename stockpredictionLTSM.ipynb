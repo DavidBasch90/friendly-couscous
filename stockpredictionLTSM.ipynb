{
 "cells": [
  {
   "cell_type": "code",
   "execution_count": 1,
   "metadata": {},
   "outputs": [],
   "source": [
    "#description\n",
    "#  This program uses an artificial recurrent neural network called Long Short Term Memory (LSTM)\n",
    "#  We are going to use this LSTM to predict the closing stock price of a corporation (Apple inc) using the past 60 day stock price."
   ]
  },
  {
   "cell_type": "code",
   "execution_count": 2,
   "metadata": {},
   "outputs": [],
   "source": [
    "#import libraries\n",
    "\n",
    "import math\n",
    "import pandas_datareader as web\n",
    "import numpy as np\n",
    "import pandas as pd\n",
    "from sklearn.preprocessing import MinMaxScaler\n",
    "from keras.models import Sequential\n",
    "from keras.layers import Dense,LSTM\n",
    "import matplotlib.pyplot as plt\n",
    "plt.style.use('fivethirtyeight')"
   ]
  },
  {
   "cell_type": "code",
   "execution_count": 3,
   "metadata": {},
   "outputs": [],
   "source": [
    "#get the stock quote"
   ]
  },
  {
   "cell_type": "code",
   "execution_count": 4,
   "metadata": {},
   "outputs": [],
   "source": [
    "df = web.DataReader('GME',data_source='yahoo',start='2021-01-15', end='2021-08-13')"
   ]
  },
  {
   "cell_type": "code",
   "execution_count": 5,
   "metadata": {
    "scrolled": true
   },
   "outputs": [
    {
     "data": {
      "text/html": [
       "<div>\n",
       "<style scoped>\n",
       "    .dataframe tbody tr th:only-of-type {\n",
       "        vertical-align: middle;\n",
       "    }\n",
       "\n",
       "    .dataframe tbody tr th {\n",
       "        vertical-align: top;\n",
       "    }\n",
       "\n",
       "    .dataframe thead th {\n",
       "        text-align: right;\n",
       "    }\n",
       "</style>\n",
       "<table border=\"1\" class=\"dataframe\">\n",
       "  <thead>\n",
       "    <tr style=\"text-align: right;\">\n",
       "      <th></th>\n",
       "      <th>High</th>\n",
       "      <th>Low</th>\n",
       "      <th>Open</th>\n",
       "      <th>Close</th>\n",
       "      <th>Volume</th>\n",
       "      <th>Adj Close</th>\n",
       "    </tr>\n",
       "    <tr>\n",
       "      <th>Date</th>\n",
       "      <th></th>\n",
       "      <th></th>\n",
       "      <th></th>\n",
       "      <th></th>\n",
       "      <th></th>\n",
       "      <th></th>\n",
       "    </tr>\n",
       "  </thead>\n",
       "  <tbody>\n",
       "    <tr>\n",
       "      <th>2021-01-15</th>\n",
       "      <td>40.750000</td>\n",
       "      <td>34.009998</td>\n",
       "      <td>38.490002</td>\n",
       "      <td>35.500000</td>\n",
       "      <td>46866400</td>\n",
       "      <td>35.500000</td>\n",
       "    </tr>\n",
       "    <tr>\n",
       "      <th>2021-01-19</th>\n",
       "      <td>45.520000</td>\n",
       "      <td>36.639999</td>\n",
       "      <td>41.549999</td>\n",
       "      <td>39.360001</td>\n",
       "      <td>74721900</td>\n",
       "      <td>39.360001</td>\n",
       "    </tr>\n",
       "    <tr>\n",
       "      <th>2021-01-20</th>\n",
       "      <td>41.189999</td>\n",
       "      <td>36.060001</td>\n",
       "      <td>37.369999</td>\n",
       "      <td>39.119999</td>\n",
       "      <td>33471800</td>\n",
       "      <td>39.119999</td>\n",
       "    </tr>\n",
       "    <tr>\n",
       "      <th>2021-01-21</th>\n",
       "      <td>44.750000</td>\n",
       "      <td>37.000000</td>\n",
       "      <td>39.230000</td>\n",
       "      <td>43.029999</td>\n",
       "      <td>56216900</td>\n",
       "      <td>43.029999</td>\n",
       "    </tr>\n",
       "    <tr>\n",
       "      <th>2021-01-22</th>\n",
       "      <td>76.760002</td>\n",
       "      <td>42.320000</td>\n",
       "      <td>42.590000</td>\n",
       "      <td>65.010002</td>\n",
       "      <td>197157900</td>\n",
       "      <td>65.010002</td>\n",
       "    </tr>\n",
       "    <tr>\n",
       "      <th>...</th>\n",
       "      <td>...</td>\n",
       "      <td>...</td>\n",
       "      <td>...</td>\n",
       "      <td>...</td>\n",
       "      <td>...</td>\n",
       "      <td>...</td>\n",
       "    </tr>\n",
       "    <tr>\n",
       "      <th>2021-08-09</th>\n",
       "      <td>164.710007</td>\n",
       "      <td>150.660004</td>\n",
       "      <td>151.800003</td>\n",
       "      <td>161.130005</td>\n",
       "      <td>2249200</td>\n",
       "      <td>161.130005</td>\n",
       "    </tr>\n",
       "    <tr>\n",
       "      <th>2021-08-10</th>\n",
       "      <td>166.899994</td>\n",
       "      <td>155.350006</td>\n",
       "      <td>161.360001</td>\n",
       "      <td>159.050003</td>\n",
       "      <td>1623300</td>\n",
       "      <td>159.050003</td>\n",
       "    </tr>\n",
       "    <tr>\n",
       "      <th>2021-08-11</th>\n",
       "      <td>159.050003</td>\n",
       "      <td>154.619995</td>\n",
       "      <td>158.429993</td>\n",
       "      <td>158.779999</td>\n",
       "      <td>945400</td>\n",
       "      <td>158.779999</td>\n",
       "    </tr>\n",
       "    <tr>\n",
       "      <th>2021-08-12</th>\n",
       "      <td>164.279999</td>\n",
       "      <td>157.330002</td>\n",
       "      <td>159.880005</td>\n",
       "      <td>162.350006</td>\n",
       "      <td>1317800</td>\n",
       "      <td>162.350006</td>\n",
       "    </tr>\n",
       "    <tr>\n",
       "      <th>2021-08-13</th>\n",
       "      <td>163.550003</td>\n",
       "      <td>157.410004</td>\n",
       "      <td>160.470001</td>\n",
       "      <td>162.520004</td>\n",
       "      <td>1012700</td>\n",
       "      <td>162.520004</td>\n",
       "    </tr>\n",
       "  </tbody>\n",
       "</table>\n",
       "<p>146 rows × 6 columns</p>\n",
       "</div>"
      ],
      "text/plain": [
       "                  High         Low        Open       Close     Volume  \\\n",
       "Date                                                                    \n",
       "2021-01-15   40.750000   34.009998   38.490002   35.500000   46866400   \n",
       "2021-01-19   45.520000   36.639999   41.549999   39.360001   74721900   \n",
       "2021-01-20   41.189999   36.060001   37.369999   39.119999   33471800   \n",
       "2021-01-21   44.750000   37.000000   39.230000   43.029999   56216900   \n",
       "2021-01-22   76.760002   42.320000   42.590000   65.010002  197157900   \n",
       "...                ...         ...         ...         ...        ...   \n",
       "2021-08-09  164.710007  150.660004  151.800003  161.130005    2249200   \n",
       "2021-08-10  166.899994  155.350006  161.360001  159.050003    1623300   \n",
       "2021-08-11  159.050003  154.619995  158.429993  158.779999     945400   \n",
       "2021-08-12  164.279999  157.330002  159.880005  162.350006    1317800   \n",
       "2021-08-13  163.550003  157.410004  160.470001  162.520004    1012700   \n",
       "\n",
       "             Adj Close  \n",
       "Date                    \n",
       "2021-01-15   35.500000  \n",
       "2021-01-19   39.360001  \n",
       "2021-01-20   39.119999  \n",
       "2021-01-21   43.029999  \n",
       "2021-01-22   65.010002  \n",
       "...                ...  \n",
       "2021-08-09  161.130005  \n",
       "2021-08-10  159.050003  \n",
       "2021-08-11  158.779999  \n",
       "2021-08-12  162.350006  \n",
       "2021-08-13  162.520004  \n",
       "\n",
       "[146 rows x 6 columns]"
      ]
     },
     "execution_count": 5,
     "metadata": {},
     "output_type": "execute_result"
    }
   ],
   "source": [
    "df"
   ]
  },
  {
   "cell_type": "code",
   "execution_count": 6,
   "metadata": {},
   "outputs": [
    {
     "data": {
      "text/plain": [
       "(146, 6)"
      ]
     },
     "execution_count": 6,
     "metadata": {},
     "output_type": "execute_result"
    }
   ],
   "source": [
    "#get the number of rows/columns\n",
    "df.shape"
   ]
  },
  {
   "cell_type": "code",
   "execution_count": 7,
   "metadata": {},
   "outputs": [
    {
     "data": {
      "image/png": "[encoded data removed]",
      "text/plain": [
       "<Figure size 1152x576 with 1 Axes>"
      ]
     },
     "metadata": {},
     "output_type": "display_data"
    }
   ],
   "source": [
    "#visualize closing price history\n",
    "plt.figure(figsize=(16,8))\n",
    "plt.title('Close Price History')\n",
    "plt.plot(df['Close'])\n",
    "plt.xlabel('Date',fontsize=18)\n",
    "plt.ylabel('Close Price USD', fontsize=18)\n",
    "plt.show()"
   ]
  },
  {
   "cell_type": "code",
   "execution_count": 8,
   "metadata": {},
   "outputs": [
    {
     "data": {
      "text/plain": [
       "117"
      ]
     },
     "execution_count": 8,
     "metadata": {},
     "output_type": "execute_result"
    }
   ],
   "source": [
    "#create new df with only close column\n",
    "data = df.filter(['Close'])\n",
    "#convert df to a numpy array\n",
    "dataset = data.values\n",
    "#get the number of rows to train the model on\n",
    "training_data_len = math.ceil(len(dataset) * .8)\n",
    "training_data_len"
   ]
  },
  {
   "cell_type": "code",
   "execution_count": 9,
   "metadata": {},
   "outputs": [
    {
     "data": {
      "text/plain": [
       "array([[0.        ],\n",
       "       [0.0123714 ],\n",
       "       [0.01160219],\n",
       "       [0.02413384],\n",
       "       [0.09458031],\n",
       "       [0.1323355 ],\n",
       "       [0.36050124],\n",
       "       [1.        ],\n",
       "       [0.50671453],\n",
       "       [0.92785485],\n",
       "       [0.60735231],\n",
       "       [0.17467388],\n",
       "       [0.18239801],\n",
       "       [0.05769046],\n",
       "       [0.09060607],\n",
       "       [0.07852312],\n",
       "       [0.04746643],\n",
       "       [0.0503189 ],\n",
       "       [0.04999839],\n",
       "       [0.05416493],\n",
       "       [0.0449024 ],\n",
       "       [0.03346046],\n",
       "       [0.01663408],\n",
       "       [0.01631358],\n",
       "       [0.03365277],\n",
       "       [0.03035159],\n",
       "       [0.18015447],\n",
       "       [0.23470402],\n",
       "       [0.21230087],\n",
       "       [0.27210666],\n",
       "       [0.2649915 ],\n",
       "       [0.28422165],\n",
       "       [0.31040673],\n",
       "       [0.32768181],\n",
       "       [0.50959904],\n",
       "       [0.67754235],\n",
       "       [0.73555332],\n",
       "       [0.7195282 ],\n",
       "       [0.73395081],\n",
       "       [0.59177588],\n",
       "       [0.55341173],\n",
       "       [0.55866797],\n",
       "       [0.53283547],\n",
       "       [0.52809205],\n",
       "       [0.509567  ],\n",
       "       [0.46873496],\n",
       "       [0.27191434],\n",
       "       [0.47514501],\n",
       "       [0.46633119],\n",
       "       [0.46729271],\n",
       "       [0.50947086],\n",
       "       [0.49459954],\n",
       "       [0.4998237 ],\n",
       "       [0.48540108],\n",
       "       [0.47754878],\n",
       "       [0.45661997],\n",
       "       [0.4319092 ],\n",
       "       [0.39376942],\n",
       "       [0.33841862],\n",
       "       [0.33809814],\n",
       "       [0.41995447],\n",
       "       [0.38761578],\n",
       "       [0.38200698],\n",
       "       [0.41303161],\n",
       "       [0.39431427],\n",
       "       [0.39425015],\n",
       "       [0.37072528],\n",
       "       [0.37075731],\n",
       "       [0.42764651],\n",
       "       [0.45597897],\n",
       "       [0.45857504],\n",
       "       [0.45091503],\n",
       "       [0.44258194],\n",
       "       [0.40607671],\n",
       "       [0.40136531],\n",
       "       [0.39735903],\n",
       "       [0.40226272],\n",
       "       [0.40258324],\n",
       "       [0.34524534],\n",
       "       [0.35710392],\n",
       "       [0.3502772 ],\n",
       "       [0.41344827],\n",
       "       [0.39876925],\n",
       "       [0.4650492 ],\n",
       "       [0.46527353],\n",
       "       [0.42732604],\n",
       "       [0.43264639],\n",
       "       [0.45283801],\n",
       "       [0.4631582 ],\n",
       "       [0.55745004],\n",
       "       [0.66363255],\n",
       "       [0.70071471],\n",
       "       [0.59773723],\n",
       "       [0.68433703],\n",
       "       [0.79080793],\n",
       "       [0.71369503],\n",
       "       [0.6822217 ],\n",
       "       [0.78366079],\n",
       "       [0.84772921],\n",
       "       [0.85593407],\n",
       "       [0.59257714],\n",
       "       [0.63408221],\n",
       "       [0.62158263],\n",
       "       [0.59933975],\n",
       "       [0.60084611],\n",
       "       [0.60283321],\n",
       "       [0.57152015],\n",
       "       [0.52841252],\n",
       "       [0.59260917],\n",
       "       [0.58921185],\n",
       "       [0.56668053],\n",
       "       [0.55770645],\n",
       "       [0.56969326],\n",
       "       [0.56209737],\n",
       "       [0.57254573],\n",
       "       [0.54120059],\n",
       "       [0.5362969 ],\n",
       "       [0.52581646],\n",
       "       [0.49729175],\n",
       "       [0.49959937],\n",
       "       [0.49911859],\n",
       "       [0.49277265],\n",
       "       [0.46331846],\n",
       "       [0.42344794],\n",
       "       [0.42088396],\n",
       "       [0.42799907],\n",
       "       [0.44226147],\n",
       "       [0.49895833],\n",
       "       [0.48174736],\n",
       "       [0.45944041],\n",
       "       [0.46427998],\n",
       "       [0.47575398],\n",
       "       [0.45844681],\n",
       "       [0.42825548],\n",
       "       [0.41460209],\n",
       "       [0.40261527],\n",
       "       [0.39149383],\n",
       "       [0.37578923],\n",
       "       [0.35671933],\n",
       "       [0.3780007 ],\n",
       "       [0.37264831],\n",
       "       [0.40264735],\n",
       "       [0.3959809 ],\n",
       "       [0.39511552],\n",
       "       [0.40655749],\n",
       "       [0.40710234]])"
      ]
     },
     "execution_count": 9,
     "metadata": {},
     "output_type": "execute_result"
    }
   ],
   "source": [
    "#scale the data\n",
    "scaler = MinMaxScaler(feature_range=(0,1))\n",
    "scaled_data = scaler.fit_transform(dataset)\n",
    "scaled_data"
   ]
  },
  {
   "cell_type": "code",
   "execution_count": null,
   "metadata": {},
   "outputs": [],
   "source": []
  },
  {
   "cell_type": "code",
   "execution_count": 10,
   "metadata": {},
   "outputs": [
    {
     "name": "stdout",
     "output_type": "stream",
     "text": [
      "[array([0.        , 0.0123714 , 0.01160219, 0.02413384, 0.09458031,\n",
      "       0.1323355 , 0.36050124, 1.        , 0.50671453, 0.92785485,\n",
      "       0.60735231, 0.17467388, 0.18239801, 0.05769046, 0.09060607,\n",
      "       0.07852312, 0.04746643, 0.0503189 , 0.04999839, 0.05416493,\n",
      "       0.0449024 , 0.03346046, 0.01663408, 0.01631358, 0.03365277,\n",
      "       0.03035159, 0.18015447, 0.23470402, 0.21230087, 0.27210666,\n",
      "       0.2649915 , 0.28422165, 0.31040673, 0.32768181, 0.50959904,\n",
      "       0.67754235, 0.73555332, 0.7195282 , 0.73395081, 0.59177588,\n",
      "       0.55341173, 0.55866797, 0.53283547, 0.52809205, 0.509567  ,\n",
      "       0.46873496, 0.27191434, 0.47514501, 0.46633119, 0.46729271,\n",
      "       0.50947086, 0.49459954, 0.4998237 , 0.48540108, 0.47754878,\n",
      "       0.45661997, 0.4319092 , 0.39376942, 0.33841862, 0.33809814])]\n",
      "[0.41995447158161275]\n",
      "\n"
     ]
    }
   ],
   "source": [
    "#create the training data set\n",
    "#create the scaled training set\n",
    "train_data = scaled_data[0:training_data_len,:]\n",
    "#split the data into x_train and y_train data sets\n",
    "#independent variable\n",
    "x_train = []\n",
    "#dependent variable\n",
    "y_train = []\n",
    "\n",
    "for i in range(60,len(train_data)):\n",
    "    x_train.append(train_data[i-60:i,0])\n",
    "    y_train.append(train_data[i,0])\n",
    "    if i <= 60:\n",
    "        print(x_train)\n",
    "        print(y_train)\n",
    "        print()"
   ]
  },
  {
   "cell_type": "code",
   "execution_count": 11,
   "metadata": {},
   "outputs": [],
   "source": [
    "#convert the training data to a numpy array\n",
    "x_train, y_train = np.array(x_train), np.array(y_train)"
   ]
  },
  {
   "cell_type": "code",
   "execution_count": 12,
   "metadata": {},
   "outputs": [
    {
     "data": {
      "text/plain": [
       "(57, 60)"
      ]
     },
     "execution_count": 12,
     "metadata": {},
     "output_type": "execute_result"
    }
   ],
   "source": [
    "x_train.shape"
   ]
  },
  {
   "cell_type": "code",
   "execution_count": 13,
   "metadata": {},
   "outputs": [
    {
     "data": {
      "text/plain": [
       "(57, 60, 1)"
      ]
     },
     "execution_count": 13,
     "metadata": {},
     "output_type": "execute_result"
    }
   ],
   "source": [
    "#reshape the dataset\n",
    "x_train = np.reshape(x_train,(x_train.shape[0],x_train.shape[1],1))\n",
    "x_train.shape"
   ]
  },
  {
   "cell_type": "code",
   "execution_count": 14,
   "metadata": {},
   "outputs": [],
   "source": [
    "#Build the LSTM model\n",
    "model = Sequential()\n",
    "model.add(LSTM(50, return_sequences=True,input_shape = (x_train.shape[1],1)))\n",
    "model.add(LSTM(50, return_sequences=False))\n",
    "model.add(Dense(25))\n",
    "model.add(Dense(1))\n",
    "          "
   ]
  },
  {
   "cell_type": "code",
   "execution_count": 15,
   "metadata": {},
   "outputs": [],
   "source": [
    "#compile the model\n",
    "model.compile(optimizer=\"adam\",loss='mean_squared_error')"
   ]
  },
  {
   "cell_type": "code",
   "execution_count": 16,
   "metadata": {},
   "outputs": [
    {
     "name": "stdout",
     "output_type": "stream",
     "text": [
      "57/57 [==============================] - 10s 42ms/step - loss: 0.0430\n"
     ]
    },
    {
     "data": {
      "text/plain": [
       "<tensorflow.python.keras.callbacks.History at 0x1b7c5b3e370>"
      ]
     },
     "execution_count": 16,
     "metadata": {},
     "output_type": "execute_result"
    }
   ],
   "source": [
    "#train the model\n",
    "model.fit(x_train,y_train,batch_size=1,epochs=1)"
   ]
  },
  {
   "cell_type": "code",
   "execution_count": 17,
   "metadata": {},
   "outputs": [],
   "source": [
    "#create the testing data set\n",
    "#create a new array containing scaled values from index 1543\n",
    "test_data = scaled_data[training_data_len - 60:,:]\n",
    "\n",
    "#create the data sets x_test and y_test\n",
    "x_test = []\n",
    "y_test = dataset[training_data_len:,:]\n",
    "\n",
    "for i in range(60, len(test_data)):\n",
    "    x_test.append(test_data[i-60:i,0])\n",
    "    "
   ]
  },
  {
   "cell_type": "code",
   "execution_count": 18,
   "metadata": {},
   "outputs": [],
   "source": [
    "#convert the data to a numpy array\n",
    "x_test = np.array(x_test)"
   ]
  },
  {
   "cell_type": "code",
   "execution_count": 19,
   "metadata": {},
   "outputs": [],
   "source": [
    "#reshape the data\n",
    "x_test = np.reshape(x_test,(x_test.shape[0],x_test.shape[1],1))"
   ]
  },
  {
   "cell_type": "code",
   "execution_count": 20,
   "metadata": {},
   "outputs": [],
   "source": [
    "#get the models prediced price values\n",
    "predictions = model.predict(x_test)\n",
    "#unscaling the values\n",
    "predictions = scaler.inverse_transform(predictions)"
   ]
  },
  {
   "cell_type": "code",
   "execution_count": 21,
   "metadata": {},
   "outputs": [],
   "source": [
    "#get the root mean squared error (RMSE)\n",
    "rmse = np.sqrt(np.mean(((predictions - y_test)**2)))"
   ]
  },
  {
   "cell_type": "code",
   "execution_count": 22,
   "metadata": {},
   "outputs": [
    {
     "data": {
      "text/plain": [
       "27.870915458860576"
      ]
     },
     "execution_count": 22,
     "metadata": {},
     "output_type": "execute_result"
    }
   ],
   "source": [
    "rmse"
   ]
  },
  {
   "cell_type": "code",
   "execution_count": 23,
   "metadata": {},
   "outputs": [
    {
     "name": "stderr",
     "output_type": "stream",
     "text": [
      "<ipython-input-23-0f597c409cdb>:4: SettingWithCopyWarning: \n",
      "A value is trying to be set on a copy of a slice from a DataFrame.\n",
      "Try using .loc[row_indexer,col_indexer] = value instead\n",
      "\n",
      "See the caveats in the documentation: https://pandas.pydata.org/pandas-docs/stable/user_guide/indexing.html#returning-a-view-versus-a-copy\n",
      "  valid['predictions'] = predictions\n"
     ]
    },
    {
     "data": {
      "image/png": "[encoded data removed]",
      "text/plain": [
       "<Figure size 1152x576 with 1 Axes>"
      ]
     },
     "metadata": {},
     "output_type": "display_data"
    }
   ],
   "source": [
    "#plot the data\n",
    "train = data[:training_data_len]\n",
    "valid = data[training_data_len:]\n",
    "valid['predictions'] = predictions\n",
    "#visualise the data\n",
    "plt.figure(figsize=(16,8))\n",
    "plt.title('Model')\n",
    "plt.xlabel('Date', fontsize=18)\n",
    "plt.ylabel('Close price USD', fontsize = 18)\n",
    "plt.plot(train['Close'])\n",
    "plt.plot(valid[['Close', 'predictions']])\n",
    "plt.legend(['Train', 'Val', 'Predictions'], loc='lower right')\n",
    "plt.show()"
   ]
  },
  {
   "cell_type": "code",
   "execution_count": 24,
   "metadata": {
    "scrolled": true
   },
   "outputs": [
    {
     "data": {
      "text/html": [
       "<div>\n",
       "<style scoped>\n",
       "    .dataframe tbody tr th:only-of-type {\n",
       "        vertical-align: middle;\n",
       "    }\n",
       "\n",
       "    .dataframe tbody tr th {\n",
       "        vertical-align: top;\n",
       "    }\n",
       "\n",
       "    .dataframe thead th {\n",
       "        text-align: right;\n",
       "    }\n",
       "</style>\n",
       "<table border=\"1\" class=\"dataframe\">\n",
       "  <thead>\n",
       "    <tr style=\"text-align: right;\">\n",
       "      <th></th>\n",
       "      <th>Close</th>\n",
       "      <th>predictions</th>\n",
       "    </tr>\n",
       "    <tr>\n",
       "      <th>Date</th>\n",
       "      <th></th>\n",
       "      <th></th>\n",
       "    </tr>\n",
       "  </thead>\n",
       "  <tbody>\n",
       "    <tr>\n",
       "      <th>2021-07-06</th>\n",
       "      <td>199.559998</td>\n",
       "      <td>218.320496</td>\n",
       "    </tr>\n",
       "    <tr>\n",
       "      <th>2021-07-07</th>\n",
       "      <td>190.660004</td>\n",
       "      <td>217.072739</td>\n",
       "    </tr>\n",
       "    <tr>\n",
       "      <th>2021-07-08</th>\n",
       "      <td>191.380005</td>\n",
       "      <td>215.592712</td>\n",
       "    </tr>\n",
       "    <tr>\n",
       "      <th>2021-07-09</th>\n",
       "      <td>191.229996</td>\n",
       "      <td>214.021530</td>\n",
       "    </tr>\n",
       "    <tr>\n",
       "      <th>2021-07-12</th>\n",
       "      <td>189.250000</td>\n",
       "      <td>212.451462</td>\n",
       "    </tr>\n",
       "    <tr>\n",
       "      <th>2021-07-13</th>\n",
       "      <td>180.059998</td>\n",
       "      <td>210.895050</td>\n",
       "    </tr>\n",
       "    <tr>\n",
       "      <th>2021-07-14</th>\n",
       "      <td>167.619995</td>\n",
       "      <td>209.170120</td>\n",
       "    </tr>\n",
       "    <tr>\n",
       "      <th>2021-07-15</th>\n",
       "      <td>166.820007</td>\n",
       "      <td>207.063889</td>\n",
       "    </tr>\n",
       "    <tr>\n",
       "      <th>2021-07-16</th>\n",
       "      <td>169.039993</td>\n",
       "      <td>204.747620</td>\n",
       "    </tr>\n",
       "    <tr>\n",
       "      <th>2021-07-19</th>\n",
       "      <td>173.490005</td>\n",
       "      <td>202.442444</td>\n",
       "    </tr>\n",
       "    <tr>\n",
       "      <th>2021-07-20</th>\n",
       "      <td>191.179993</td>\n",
       "      <td>200.359756</td>\n",
       "    </tr>\n",
       "    <tr>\n",
       "      <th>2021-07-21</th>\n",
       "      <td>185.809998</td>\n",
       "      <td>198.984055</td>\n",
       "    </tr>\n",
       "    <tr>\n",
       "      <th>2021-07-22</th>\n",
       "      <td>178.850006</td>\n",
       "      <td>198.024353</td>\n",
       "    </tr>\n",
       "    <tr>\n",
       "      <th>2021-07-23</th>\n",
       "      <td>180.360001</td>\n",
       "      <td>197.190430</td>\n",
       "    </tr>\n",
       "    <tr>\n",
       "      <th>2021-07-26</th>\n",
       "      <td>183.940002</td>\n",
       "      <td>196.502151</td>\n",
       "    </tr>\n",
       "    <tr>\n",
       "      <th>2021-07-27</th>\n",
       "      <td>178.539993</td>\n",
       "      <td>196.032623</td>\n",
       "    </tr>\n",
       "    <tr>\n",
       "      <th>2021-07-28</th>\n",
       "      <td>169.119995</td>\n",
       "      <td>195.588287</td>\n",
       "    </tr>\n",
       "    <tr>\n",
       "      <th>2021-07-29</th>\n",
       "      <td>164.860001</td>\n",
       "      <td>194.919418</td>\n",
       "    </tr>\n",
       "    <tr>\n",
       "      <th>2021-07-30</th>\n",
       "      <td>161.119995</td>\n",
       "      <td>193.998123</td>\n",
       "    </tr>\n",
       "    <tr>\n",
       "      <th>2021-08-02</th>\n",
       "      <td>157.649994</td>\n",
       "      <td>192.837631</td>\n",
       "    </tr>\n",
       "    <tr>\n",
       "      <th>2021-08-03</th>\n",
       "      <td>152.750000</td>\n",
       "      <td>191.465103</td>\n",
       "    </tr>\n",
       "    <tr>\n",
       "      <th>2021-08-04</th>\n",
       "      <td>146.800003</td>\n",
       "      <td>189.870483</td>\n",
       "    </tr>\n",
       "    <tr>\n",
       "      <th>2021-08-05</th>\n",
       "      <td>153.440002</td>\n",
       "      <td>188.026138</td>\n",
       "    </tr>\n",
       "    <tr>\n",
       "      <th>2021-08-06</th>\n",
       "      <td>151.770004</td>\n",
       "      <td>186.258987</td>\n",
       "    </tr>\n",
       "    <tr>\n",
       "      <th>2021-08-09</th>\n",
       "      <td>161.130005</td>\n",
       "      <td>184.581161</td>\n",
       "    </tr>\n",
       "    <tr>\n",
       "      <th>2021-08-10</th>\n",
       "      <td>159.050003</td>\n",
       "      <td>183.280991</td>\n",
       "    </tr>\n",
       "    <tr>\n",
       "      <th>2021-08-11</th>\n",
       "      <td>158.779999</td>\n",
       "      <td>182.245316</td>\n",
       "    </tr>\n",
       "    <tr>\n",
       "      <th>2021-08-12</th>\n",
       "      <td>162.350006</td>\n",
       "      <td>181.419083</td>\n",
       "    </tr>\n",
       "    <tr>\n",
       "      <th>2021-08-13</th>\n",
       "      <td>162.520004</td>\n",
       "      <td>180.861084</td>\n",
       "    </tr>\n",
       "  </tbody>\n",
       "</table>\n",
       "</div>"
      ],
      "text/plain": [
       "                 Close  predictions\n",
       "Date                               \n",
       "2021-07-06  199.559998   218.320496\n",
       "2021-07-07  190.660004   217.072739\n",
       "2021-07-08  191.380005   215.592712\n",
       "2021-07-09  191.229996   214.021530\n",
       "2021-07-12  189.250000   212.451462\n",
       "2021-07-13  180.059998   210.895050\n",
       "2021-07-14  167.619995   209.170120\n",
       "2021-07-15  166.820007   207.063889\n",
       "2021-07-16  169.039993   204.747620\n",
       "2021-07-19  173.490005   202.442444\n",
       "2021-07-20  191.179993   200.359756\n",
       "2021-07-21  185.809998   198.984055\n",
       "2021-07-22  178.850006   198.024353\n",
       "2021-07-23  180.360001   197.190430\n",
       "2021-07-26  183.940002   196.502151\n",
       "2021-07-27  178.539993   196.032623\n",
       "2021-07-28  169.119995   195.588287\n",
       "2021-07-29  164.860001   194.919418\n",
       "2021-07-30  161.119995   193.998123\n",
       "2021-08-02  157.649994   192.837631\n",
       "2021-08-03  152.750000   191.465103\n",
       "2021-08-04  146.800003   189.870483\n",
       "2021-08-05  153.440002   188.026138\n",
       "2021-08-06  151.770004   186.258987\n",
       "2021-08-09  161.130005   184.581161\n",
       "2021-08-10  159.050003   183.280991\n",
       "2021-08-11  158.779999   182.245316\n",
       "2021-08-12  162.350006   181.419083\n",
       "2021-08-13  162.520004   180.861084"
      ]
     },
     "execution_count": 24,
     "metadata": {},
     "output_type": "execute_result"
    }
   ],
   "source": [
    "#Show the valid and predicted prices\n",
    "valid "
   ]
  },
  {
   "cell_type": "code",
   "execution_count": 25,
   "metadata": {},
   "outputs": [
    {
     "name": "stdout",
     "output_type": "stream",
     "text": [
      "[[180.51317]]\n"
     ]
    }
   ],
   "source": [
    "#get the quote\n",
    "gme_quote = web.DataReader('GME',data_source='yahoo',start='2021-01-15', end='2021-08-13')\n",
    "#create a df\n",
    "new_df = gme_quote.filter(['Close'])\n",
    "#convert last 60 days to array\n",
    "last_60_days = new_df[-60:].values\n",
    "#scale the data, we don't use .fit here because it uses the same .fit from earlier?\n",
    "last_60_days_scaled = scaler.transform(last_60_days)\n",
    "#create empty list\n",
    "X_test = []\n",
    "#append past 60 days to the list\n",
    "X_test.append(last_60_days_scaled)\n",
    "#convert the X_test data set to a numpy array\n",
    "X_test = np.array(X_test)\n",
    "X_test = np.reshape(X_test,(X_test.shape[0],X_test.shape[1],1))\n",
    "#get the predicted scaled price\n",
    "pred_price = model.predict(X_test)\n",
    "#undo scaling\n",
    "pred_price = scaler.inverse_transform(pred_price)\n",
    "print(pred_price)"
   ]
  },
  {
   "cell_type": "code",
   "execution_count": 26,
   "metadata": {},
   "outputs": [
    {
     "name": "stdout",
     "output_type": "stream",
     "text": [
      "Date\n",
      "2021-08-13    162.520004\n",
      "2021-08-13    162.520004\n",
      "Name: Close, dtype: float64\n"
     ]
    }
   ],
   "source": [
    "gme_quote2 = web.DataReader('GME',data_source='yahoo',start='2021-08-13', end='2021-08-13')\n",
    "print(gme_quote2['Close'])"
   ]
  },
  {
   "cell_type": "code",
   "execution_count": null,
   "metadata": {},
   "outputs": [],
   "source": []
  }
 ],
 "metadata": {
  "kernelspec": {
   "display_name": "Python 3",
   "language": "python",
   "name": "python3"
  },
  "language_info": {
   "codemirror_mode": {
    "name": "ipython",
    "version": 3
   },
   "file_extension": ".py",
   "mimetype": "text/x-python",
   "name": "python",
   "nbconvert_exporter": "python",
   "pygments_lexer": "ipython3",
   "version": "3.8.5"
  }
 },
 "nbformat": 4,
 "nbformat_minor": 4
}
