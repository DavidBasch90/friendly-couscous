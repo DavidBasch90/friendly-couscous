{
 "cells": [
  {
   "cell_type": "markdown",
   "metadata": {},
   "source": [
    "# Importing Libraries"
   ]
  },
  {
   "cell_type": "code",
   "execution_count": 15,
   "metadata": {},
   "outputs": [],
   "source": [
    "import pandas as pd\n",
    "import seaborn as sns\n",
    "import matplotlib.pyplot as plt\n",
    "%matplotlib inline\n",
    "import numpy as np\n"
   ]
  },
  {
   "cell_type": "code",
   "execution_count": 14,
   "metadata": {},
   "outputs": [
    {
     "data": {
      "text/plain": [
       "'2.4.0'"
      ]
     },
     "execution_count": 14,
     "metadata": {},
     "output_type": "execute_result"
    }
   ],
   "source": [
    "import tensorflow\n",
    "tensorflow.__version__"
   ]
  },
  {
   "cell_type": "code",
   "execution_count": 31,
   "metadata": {},
   "outputs": [],
   "source": [
    "from tensorflow.keras.models import Sequential  # used to create neural network (a sequesnce of layers)\n",
    "from tensorflow.keras.layers import Dense # one neuron in one layer connected to all other layers in the next layer\n",
    "from keras.utils import np_utils"
   ]
  },
  {
   "cell_type": "markdown",
   "metadata": {},
   "source": [
    "# Loading Dataset"
   ]
  },
  {
   "cell_type": "code",
   "execution_count": 2,
   "metadata": {},
   "outputs": [],
   "source": [
    "data = pd.read_csv('Chatty_train.csv')"
   ]
  },
  {
   "cell_type": "code",
   "execution_count": 12,
   "metadata": {},
   "outputs": [
    {
     "data": {
      "text/html": [
       "<div>\n",
       "<style>\n",
       "    .dataframe thead tr:only-child th {\n",
       "        text-align: right;\n",
       "    }\n",
       "\n",
       "    .dataframe thead th {\n",
       "        text-align: left;\n",
       "    }\n",
       "\n",
       "    .dataframe tbody tr th {\n",
       "        vertical-align: top;\n",
       "    }\n",
       "</style>\n",
       "<table border=\"1\" class=\"dataframe\">\n",
       "  <thead>\n",
       "    <tr style=\"text-align: right;\">\n",
       "      <th></th>\n",
       "      <th>Acceleration_Timestamp</th>\n",
       "      <th>Acc_X</th>\n",
       "      <th>Acc_Y</th>\n",
       "      <th>Acc_Z</th>\n",
       "      <th>AngVelocity_Timestamp</th>\n",
       "      <th>AngV_X</th>\n",
       "      <th>AngV_Y</th>\n",
       "      <th>AngV_Z</th>\n",
       "      <th>MagField_Timestamp</th>\n",
       "      <th>Mag_X</th>\n",
       "      <th>Mag_Y</th>\n",
       "      <th>Mag_Z</th>\n",
       "      <th>Orientation_Timestamp</th>\n",
       "      <th>Orin_X</th>\n",
       "      <th>Orin_Y</th>\n",
       "      <th>Orin_Z</th>\n",
       "      <th>Activity</th>\n",
       "    </tr>\n",
       "  </thead>\n",
       "  <tbody>\n",
       "    <tr>\n",
       "      <th>0</th>\n",
       "      <td>10-11-2019 19:05:56.381</td>\n",
       "      <td>-0.131576</td>\n",
       "      <td>-0.086370</td>\n",
       "      <td>9.398655</td>\n",
       "      <td>10-11-2019 19:05:56.374</td>\n",
       "      <td>-0.008043</td>\n",
       "      <td>0.006485</td>\n",
       "      <td>-0.013777</td>\n",
       "      <td>10-11-2019 19:05:56.381</td>\n",
       "      <td>21.740547</td>\n",
       "      <td>-3.269182</td>\n",
       "      <td>-26.693754</td>\n",
       "      <td>10-11-2019 19:05:56.381</td>\n",
       "      <td>-77.395704</td>\n",
       "      <td>-0.891910</td>\n",
       "      <td>1.271720</td>\n",
       "      <td>Vibration</td>\n",
       "    </tr>\n",
       "    <tr>\n",
       "      <th>1</th>\n",
       "      <td>10-11-2019 19:05:56.391</td>\n",
       "      <td>-0.122146</td>\n",
       "      <td>0.239352</td>\n",
       "      <td>9.314530</td>\n",
       "      <td>10-11-2019 19:05:56.384</td>\n",
       "      <td>-0.006196</td>\n",
       "      <td>-0.003392</td>\n",
       "      <td>-0.014942</td>\n",
       "      <td>10-11-2019 19:05:56.391</td>\n",
       "      <td>17.138367</td>\n",
       "      <td>-10.707533</td>\n",
       "      <td>-22.636873</td>\n",
       "      <td>10-11-2019 19:05:56.391</td>\n",
       "      <td>-77.394480</td>\n",
       "      <td>-0.890001</td>\n",
       "      <td>1.269079</td>\n",
       "      <td>Vibration</td>\n",
       "    </tr>\n",
       "    <tr>\n",
       "      <th>2</th>\n",
       "      <td>10-11-2019 19:05:56.400</td>\n",
       "      <td>0.095950</td>\n",
       "      <td>0.429307</td>\n",
       "      <td>9.773775</td>\n",
       "      <td>10-11-2019 19:05:56.394</td>\n",
       "      <td>0.002659</td>\n",
       "      <td>0.011626</td>\n",
       "      <td>-0.012663</td>\n",
       "      <td>10-11-2019 19:05:56.401</td>\n",
       "      <td>17.138367</td>\n",
       "      <td>-10.707533</td>\n",
       "      <td>-22.636873</td>\n",
       "      <td>10-11-2019 19:05:56.401</td>\n",
       "      <td>-77.393229</td>\n",
       "      <td>-0.891062</td>\n",
       "      <td>1.267604</td>\n",
       "      <td>Vibration</td>\n",
       "    </tr>\n",
       "  </tbody>\n",
       "</table>\n",
       "</div>"
      ],
      "text/plain": [
       "    Acceleration_Timestamp     Acc_X     Acc_Y     Acc_Z  \\\n",
       "0  10-11-2019 19:05:56.381 -0.131576 -0.086370  9.398655   \n",
       "1  10-11-2019 19:05:56.391 -0.122146  0.239352  9.314530   \n",
       "2  10-11-2019 19:05:56.400  0.095950  0.429307  9.773775   \n",
       "\n",
       "     AngVelocity_Timestamp    AngV_X    AngV_Y    AngV_Z  \\\n",
       "0  10-11-2019 19:05:56.374 -0.008043  0.006485 -0.013777   \n",
       "1  10-11-2019 19:05:56.384 -0.006196 -0.003392 -0.014942   \n",
       "2  10-11-2019 19:05:56.394  0.002659  0.011626 -0.012663   \n",
       "\n",
       "        MagField_Timestamp      Mag_X      Mag_Y      Mag_Z  \\\n",
       "0  10-11-2019 19:05:56.381  21.740547  -3.269182 -26.693754   \n",
       "1  10-11-2019 19:05:56.391  17.138367 -10.707533 -22.636873   \n",
       "2  10-11-2019 19:05:56.401  17.138367 -10.707533 -22.636873   \n",
       "\n",
       "     Orientation_Timestamp     Orin_X    Orin_Y    Orin_Z   Activity  \n",
       "0  10-11-2019 19:05:56.381 -77.395704 -0.891910  1.271720  Vibration  \n",
       "1  10-11-2019 19:05:56.391 -77.394480 -0.890001  1.269079  Vibration  \n",
       "2  10-11-2019 19:05:56.401 -77.393229 -0.891062  1.267604  Vibration  "
      ]
     },
     "execution_count": 12,
     "metadata": {},
     "output_type": "execute_result"
    }
   ],
   "source": [
    "data.head(3)"
   ]
  },
  {
   "cell_type": "code",
   "execution_count": 4,
   "metadata": {},
   "outputs": [],
   "source": [
    "# Good practice to create a backup of your data\n",
    "\n",
    "df = data.copy()"
   ]
  },
  {
   "cell_type": "code",
   "execution_count": 11,
   "metadata": {},
   "outputs": [
    {
     "data": {
      "text/html": [
       "<div>\n",
       "<style>\n",
       "    .dataframe thead tr:only-child th {\n",
       "        text-align: right;\n",
       "    }\n",
       "\n",
       "    .dataframe thead th {\n",
       "        text-align: left;\n",
       "    }\n",
       "\n",
       "    .dataframe tbody tr th {\n",
       "        vertical-align: top;\n",
       "    }\n",
       "</style>\n",
       "<table border=\"1\" class=\"dataframe\">\n",
       "  <thead>\n",
       "    <tr style=\"text-align: right;\">\n",
       "      <th></th>\n",
       "      <th>Acceleration_Timestamp</th>\n",
       "      <th>Acc_X</th>\n",
       "      <th>Acc_Y</th>\n",
       "      <th>Acc_Z</th>\n",
       "      <th>AngVelocity_Timestamp</th>\n",
       "      <th>AngV_X</th>\n",
       "      <th>AngV_Y</th>\n",
       "      <th>AngV_Z</th>\n",
       "      <th>MagField_Timestamp</th>\n",
       "      <th>Mag_X</th>\n",
       "      <th>Mag_Y</th>\n",
       "      <th>Mag_Z</th>\n",
       "      <th>Orientation_Timestamp</th>\n",
       "      <th>Orin_X</th>\n",
       "      <th>Orin_Y</th>\n",
       "      <th>Orin_Z</th>\n",
       "      <th>Activity</th>\n",
       "    </tr>\n",
       "  </thead>\n",
       "  <tbody>\n",
       "    <tr>\n",
       "      <th>0</th>\n",
       "      <td>10-11-2019 19:05:56.381</td>\n",
       "      <td>-0.131576</td>\n",
       "      <td>-0.086370</td>\n",
       "      <td>9.398655</td>\n",
       "      <td>10-11-2019 19:05:56.374</td>\n",
       "      <td>-0.008043</td>\n",
       "      <td>0.006485</td>\n",
       "      <td>-0.013777</td>\n",
       "      <td>10-11-2019 19:05:56.381</td>\n",
       "      <td>21.740547</td>\n",
       "      <td>-3.269182</td>\n",
       "      <td>-26.693754</td>\n",
       "      <td>10-11-2019 19:05:56.381</td>\n",
       "      <td>-77.395704</td>\n",
       "      <td>-0.891910</td>\n",
       "      <td>1.271720</td>\n",
       "      <td>Vibration</td>\n",
       "    </tr>\n",
       "    <tr>\n",
       "      <th>1</th>\n",
       "      <td>10-11-2019 19:05:56.391</td>\n",
       "      <td>-0.122146</td>\n",
       "      <td>0.239352</td>\n",
       "      <td>9.314530</td>\n",
       "      <td>10-11-2019 19:05:56.384</td>\n",
       "      <td>-0.006196</td>\n",
       "      <td>-0.003392</td>\n",
       "      <td>-0.014942</td>\n",
       "      <td>10-11-2019 19:05:56.391</td>\n",
       "      <td>17.138367</td>\n",
       "      <td>-10.707533</td>\n",
       "      <td>-22.636873</td>\n",
       "      <td>10-11-2019 19:05:56.391</td>\n",
       "      <td>-77.394480</td>\n",
       "      <td>-0.890001</td>\n",
       "      <td>1.269079</td>\n",
       "      <td>Vibration</td>\n",
       "    </tr>\n",
       "    <tr>\n",
       "      <th>2</th>\n",
       "      <td>10-11-2019 19:05:56.400</td>\n",
       "      <td>0.095950</td>\n",
       "      <td>0.429307</td>\n",
       "      <td>9.773775</td>\n",
       "      <td>10-11-2019 19:05:56.394</td>\n",
       "      <td>0.002659</td>\n",
       "      <td>0.011626</td>\n",
       "      <td>-0.012663</td>\n",
       "      <td>10-11-2019 19:05:56.401</td>\n",
       "      <td>17.138367</td>\n",
       "      <td>-10.707533</td>\n",
       "      <td>-22.636873</td>\n",
       "      <td>10-11-2019 19:05:56.401</td>\n",
       "      <td>-77.393229</td>\n",
       "      <td>-0.891062</td>\n",
       "      <td>1.267604</td>\n",
       "      <td>Vibration</td>\n",
       "    </tr>\n",
       "  </tbody>\n",
       "</table>\n",
       "</div>"
      ],
      "text/plain": [
       "    Acceleration_Timestamp     Acc_X     Acc_Y     Acc_Z  \\\n",
       "0  10-11-2019 19:05:56.381 -0.131576 -0.086370  9.398655   \n",
       "1  10-11-2019 19:05:56.391 -0.122146  0.239352  9.314530   \n",
       "2  10-11-2019 19:05:56.400  0.095950  0.429307  9.773775   \n",
       "\n",
       "     AngVelocity_Timestamp    AngV_X    AngV_Y    AngV_Z  \\\n",
       "0  10-11-2019 19:05:56.374 -0.008043  0.006485 -0.013777   \n",
       "1  10-11-2019 19:05:56.384 -0.006196 -0.003392 -0.014942   \n",
       "2  10-11-2019 19:05:56.394  0.002659  0.011626 -0.012663   \n",
       "\n",
       "        MagField_Timestamp      Mag_X      Mag_Y      Mag_Z  \\\n",
       "0  10-11-2019 19:05:56.381  21.740547  -3.269182 -26.693754   \n",
       "1  10-11-2019 19:05:56.391  17.138367 -10.707533 -22.636873   \n",
       "2  10-11-2019 19:05:56.401  17.138367 -10.707533 -22.636873   \n",
       "\n",
       "     Orientation_Timestamp     Orin_X    Orin_Y    Orin_Z   Activity  \n",
       "0  10-11-2019 19:05:56.381 -77.395704 -0.891910  1.271720  Vibration  \n",
       "1  10-11-2019 19:05:56.391 -77.394480 -0.890001  1.269079  Vibration  \n",
       "2  10-11-2019 19:05:56.401 -77.393229 -0.891062  1.267604  Vibration  "
      ]
     },
     "execution_count": 11,
     "metadata": {},
     "output_type": "execute_result"
    }
   ],
   "source": [
    "df.head(3)"
   ]
  },
  {
   "cell_type": "markdown",
   "metadata": {},
   "source": [
    "### Droping all the other timestamps not needed"
   ]
  },
  {
   "cell_type": "code",
   "execution_count": 8,
   "metadata": {},
   "outputs": [],
   "source": [
    "df = df.drop(['AngVelocity_Timestamp','AngVelocity_Timestamp','MagField_Timestamp','Orientation_Timestamp'],axis=1)"
   ]
  },
  {
   "cell_type": "code",
   "execution_count": 10,
   "metadata": {},
   "outputs": [
    {
     "data": {
      "text/html": [
       "<div>\n",
       "<style>\n",
       "    .dataframe thead tr:only-child th {\n",
       "        text-align: right;\n",
       "    }\n",
       "\n",
       "    .dataframe thead th {\n",
       "        text-align: left;\n",
       "    }\n",
       "\n",
       "    .dataframe tbody tr th {\n",
       "        vertical-align: top;\n",
       "    }\n",
       "</style>\n",
       "<table border=\"1\" class=\"dataframe\">\n",
       "  <thead>\n",
       "    <tr style=\"text-align: right;\">\n",
       "      <th></th>\n",
       "      <th>Acceleration_Timestamp</th>\n",
       "      <th>Acc_X</th>\n",
       "      <th>Acc_Y</th>\n",
       "      <th>Acc_Z</th>\n",
       "      <th>AngV_X</th>\n",
       "      <th>AngV_Y</th>\n",
       "      <th>AngV_Z</th>\n",
       "      <th>Mag_X</th>\n",
       "      <th>Mag_Y</th>\n",
       "      <th>Mag_Z</th>\n",
       "      <th>Orin_X</th>\n",
       "      <th>Orin_Y</th>\n",
       "      <th>Orin_Z</th>\n",
       "      <th>Activity</th>\n",
       "    </tr>\n",
       "  </thead>\n",
       "  <tbody>\n",
       "    <tr>\n",
       "      <th>0</th>\n",
       "      <td>10-11-2019 19:05:56.381</td>\n",
       "      <td>-0.131576</td>\n",
       "      <td>-0.086370</td>\n",
       "      <td>9.398655</td>\n",
       "      <td>-0.008043</td>\n",
       "      <td>0.006485</td>\n",
       "      <td>-0.013777</td>\n",
       "      <td>21.740547</td>\n",
       "      <td>-3.269182</td>\n",
       "      <td>-26.693754</td>\n",
       "      <td>-77.395704</td>\n",
       "      <td>-0.891910</td>\n",
       "      <td>1.271720</td>\n",
       "      <td>Vibration</td>\n",
       "    </tr>\n",
       "    <tr>\n",
       "      <th>1</th>\n",
       "      <td>10-11-2019 19:05:56.391</td>\n",
       "      <td>-0.122146</td>\n",
       "      <td>0.239352</td>\n",
       "      <td>9.314530</td>\n",
       "      <td>-0.006196</td>\n",
       "      <td>-0.003392</td>\n",
       "      <td>-0.014942</td>\n",
       "      <td>17.138367</td>\n",
       "      <td>-10.707533</td>\n",
       "      <td>-22.636873</td>\n",
       "      <td>-77.394480</td>\n",
       "      <td>-0.890001</td>\n",
       "      <td>1.269079</td>\n",
       "      <td>Vibration</td>\n",
       "    </tr>\n",
       "    <tr>\n",
       "      <th>2</th>\n",
       "      <td>10-11-2019 19:05:56.400</td>\n",
       "      <td>0.095950</td>\n",
       "      <td>0.429307</td>\n",
       "      <td>9.773775</td>\n",
       "      <td>0.002659</td>\n",
       "      <td>0.011626</td>\n",
       "      <td>-0.012663</td>\n",
       "      <td>17.138367</td>\n",
       "      <td>-10.707533</td>\n",
       "      <td>-22.636873</td>\n",
       "      <td>-77.393229</td>\n",
       "      <td>-0.891062</td>\n",
       "      <td>1.267604</td>\n",
       "      <td>Vibration</td>\n",
       "    </tr>\n",
       "  </tbody>\n",
       "</table>\n",
       "</div>"
      ],
      "text/plain": [
       "    Acceleration_Timestamp     Acc_X     Acc_Y     Acc_Z    AngV_X    AngV_Y  \\\n",
       "0  10-11-2019 19:05:56.381 -0.131576 -0.086370  9.398655 -0.008043  0.006485   \n",
       "1  10-11-2019 19:05:56.391 -0.122146  0.239352  9.314530 -0.006196 -0.003392   \n",
       "2  10-11-2019 19:05:56.400  0.095950  0.429307  9.773775  0.002659  0.011626   \n",
       "\n",
       "     AngV_Z      Mag_X      Mag_Y      Mag_Z     Orin_X    Orin_Y    Orin_Z  \\\n",
       "0 -0.013777  21.740547  -3.269182 -26.693754 -77.395704 -0.891910  1.271720   \n",
       "1 -0.014942  17.138367 -10.707533 -22.636873 -77.394480 -0.890001  1.269079   \n",
       "2 -0.012663  17.138367 -10.707533 -22.636873 -77.393229 -0.891062  1.267604   \n",
       "\n",
       "    Activity  \n",
       "0  Vibration  \n",
       "1  Vibration  \n",
       "2  Vibration  "
      ]
     },
     "execution_count": 10,
     "metadata": {},
     "output_type": "execute_result"
    }
   ],
   "source": [
    "df.head(3)"
   ]
  },
  {
   "cell_type": "code",
   "execution_count": 13,
   "metadata": {},
   "outputs": [
    {
     "name": "stdout",
     "output_type": "stream",
     "text": [
      "<class 'pandas.core.frame.DataFrame'>\n",
      "RangeIndex: 103851 entries, 0 to 103850\n",
      "Data columns (total 14 columns):\n",
      "Acceleration_Timestamp    103851 non-null object\n",
      "Acc_X                     103851 non-null float64\n",
      "Acc_Y                     103851 non-null float64\n",
      "Acc_Z                     103851 non-null float64\n",
      "AngV_X                    103851 non-null float64\n",
      "AngV_Y                    103851 non-null float64\n",
      "AngV_Z                    103851 non-null float64\n",
      "Mag_X                     103851 non-null float64\n",
      "Mag_Y                     103851 non-null float64\n",
      "Mag_Z                     103851 non-null float64\n",
      "Orin_X                    103851 non-null float64\n",
      "Orin_Y                    103851 non-null float64\n",
      "Orin_Z                    103851 non-null float64\n",
      "Activity                  103851 non-null object\n",
      "dtypes: float64(12), object(2)\n",
      "memory usage: 11.1+ MB\n"
     ]
    }
   ],
   "source": [
    "df.info()"
   ]
  },
  {
   "cell_type": "markdown",
   "metadata": {},
   "source": [
    "## Encoding Categorical Data"
   ]
  },
  {
   "cell_type": "markdown",
   "metadata": {},
   "source": [
    "#### Label Encoding the \"Activity\" column"
   ]
  },
  {
   "cell_type": "code",
   "execution_count": 18,
   "metadata": {},
   "outputs": [],
   "source": [
    "from sklearn.preprocessing import LabelEncoder\n",
    "le = LabelEncoder()\n",
    "\n",
    "Activity_class = le.fit_transform(df['Activity'])\n"
   ]
  },
  {
   "cell_type": "code",
   "execution_count": 19,
   "metadata": {},
   "outputs": [
    {
     "data": {
      "text/plain": [
       "array([3, 3, 3, ..., 2, 2, 2])"
      ]
     },
     "execution_count": 19,
     "metadata": {},
     "output_type": "execute_result"
    }
   ],
   "source": [
    "Activity_class"
   ]
  },
  {
   "cell_type": "code",
   "execution_count": 20,
   "metadata": {},
   "outputs": [
    {
     "data": {
      "text/plain": [
       "(103851,)"
      ]
     },
     "execution_count": 20,
     "metadata": {},
     "output_type": "execute_result"
    }
   ],
   "source": [
    "Activity_class.shape"
   ]
  },
  {
   "cell_type": "markdown",
   "metadata": {},
   "source": [
    "#### Selecting values for X and y"
   ]
  },
  {
   "cell_type": "code",
   "execution_count": 25,
   "metadata": {},
   "outputs": [],
   "source": [
    "X= df.iloc[:, 1:-1].values\n",
    "y = Activity_class\n"
   ]
  },
  {
   "cell_type": "markdown",
   "metadata": {},
   "source": [
    "## Splitting the dataset into the Training and test set"
   ]
  },
  {
   "cell_type": "code",
   "execution_count": 28,
   "metadata": {},
   "outputs": [],
   "source": [
    "from sklearn.model_selection import train_test_split\n",
    "\n",
    "X_train, X_test, y_train, y_test = train_test_split(X, y, test_size = 0.2, random_state= 0)"
   ]
  },
  {
   "cell_type": "markdown",
   "metadata": {},
   "source": [
    "### Feature Scaling"
   ]
  },
  {
   "cell_type": "code",
   "execution_count": 29,
   "metadata": {},
   "outputs": [],
   "source": [
    "from sklearn.preprocessing import StandardScaler\n",
    "\n",
    "sc = StandardScaler()\n",
    "X_train = sc.fit_transform(X_train)\n",
    "X_test = sc.fit_transform(X_test)"
   ]
  },
  {
   "cell_type": "markdown",
   "metadata": {},
   "source": [
    "### Creating encoding for the classes in the output data"
   ]
  },
  {
   "cell_type": "code",
   "execution_count": 32,
   "metadata": {},
   "outputs": [],
   "source": [
    "\n",
    "y_train = np_utils.to_categorical(y_train)\n",
    "y_test = np_utils.to_categorical(y_test)"
   ]
  },
  {
   "cell_type": "code",
   "execution_count": 33,
   "metadata": {},
   "outputs": [
    {
     "data": {
      "text/plain": [
       "array([[0., 0., 0., 1., 0.],\n",
       "       [0., 1., 0., 0., 0.],\n",
       "       [0., 1., 0., 0., 0.],\n",
       "       ...,\n",
       "       [1., 0., 0., 0., 0.],\n",
       "       [1., 0., 0., 0., 0.],\n",
       "       [0., 0., 0., 0., 1.]], dtype=float32)"
      ]
     },
     "execution_count": 33,
     "metadata": {},
     "output_type": "execute_result"
    }
   ],
   "source": [
    "y_train"
   ]
  },
  {
   "cell_type": "markdown",
   "metadata": {},
   "source": [
    "# Neural Network (Training)"
   ]
  },
  {
   "cell_type": "markdown",
   "metadata": {},
   "source": [
    " [Link to the Keras Documentation](https://keras.io/api/) \n"
   ]
  },
  {
   "cell_type": "code",
   "execution_count": 34,
   "metadata": {},
   "outputs": [
    {
     "data": {
      "text/plain": [
       "8.5"
      ]
     },
     "execution_count": 34,
     "metadata": {},
     "output_type": "execute_result"
    }
   ],
   "source": [
    "# Structure of the network\n",
    "# we have 12 input features and 5 classes\n",
    "\n",
    "(12 + 5) /2"
   ]
  },
  {
   "cell_type": "code",
   "execution_count": 37,
   "metadata": {},
   "outputs": [],
   "source": [
    "# Neural network Strcuture  ====  12 -> 9 -> 9 -> 5\n",
    "\n",
    "# Initializing the ANN\n",
    "network = Sequential()\n",
    "\n",
    "# Adding the input layer and the first hidden layer\n",
    "network.add(Dense(input_shape = (12,), units = 9, activation = 'relu'))\n",
    "\n",
    "#Adding the second hidden layer\n",
    "network.add(Dense(units=9, activation='relu'))\n",
    "\n",
    "# Adding the output layer\n",
    "network.add(Dense(units = 5, activation='softmax'))\n"
   ]
  },
  {
   "cell_type": "code",
   "execution_count": 38,
   "metadata": {},
   "outputs": [],
   "source": [
    "# Compiling the ANN\n",
    "network.compile(loss = 'categorical_crossentropy', optimizer='adam', metrics = ['accuracy'])"
   ]
  },
  {
   "cell_type": "code",
   "execution_count": 73,
   "metadata": {},
   "outputs": [
    {
     "name": "stdout",
     "output_type": "stream",
     "text": [
      "Model: \"sequential\"\n",
      "_________________________________________________________________\n",
      "Layer (type)                 Output Shape              Param #   \n",
      "=================================================================\n",
      "dense (Dense)                (None, 9)                 117       \n",
      "_________________________________________________________________\n",
      "dense_1 (Dense)              (None, 9)                 90        \n",
      "_________________________________________________________________\n",
      "dense_2 (Dense)              (None, 5)                 50        \n",
      "=================================================================\n",
      "Total params: 257\n",
      "Trainable params: 257\n",
      "Non-trainable params: 0\n",
      "_________________________________________________________________\n"
     ]
    }
   ],
   "source": [
    "network.summary()"
   ]
  },
  {
   "cell_type": "code",
   "execution_count": 39,
   "metadata": {},
   "outputs": [
    {
     "name": "stdout",
     "output_type": "stream",
     "text": [
      "Epoch 1/10\n",
      "650/650 [==============================] - 4s 4ms/step - loss: 1.3970 - accuracy: 0.4972: 0s - loss: 1.5072 - \n",
      "Epoch 2/10\n",
      "650/650 [==============================] - 3s 4ms/step - loss: 0.2195 - accuracy: 0.9424\n",
      "Epoch 3/10\n",
      "650/650 [==============================] - 2s 3ms/step - loss: 0.0859 - accuracy: 0.9781\n",
      "Epoch 4/10\n",
      "650/650 [==============================] - 2s 3ms/step - loss: 0.0506 - accuracy: 0.9870\n",
      "Epoch 5/10\n",
      "650/650 [==============================] - 2s 3ms/step - loss: 0.0377 - accuracy: 0.9903\n",
      "Epoch 6/10\n",
      "650/650 [==============================] - 2s 3ms/step - loss: 0.0283 - accuracy: 0.9930\n",
      "Epoch 7/10\n",
      "650/650 [==============================] - 3s 4ms/step - loss: 0.0222 - accuracy: 0.9951: 0s - loss: 0.0224 - accura\n",
      "Epoch 8/10\n",
      "650/650 [==============================] - 3s 4ms/step - loss: 0.0161 - accuracy: 0.9961\n",
      "Epoch 9/10\n",
      "650/650 [==============================] - 2s 3ms/step - loss: 0.0116 - accuracy: 0.9970\n",
      "Epoch 10/10\n",
      "650/650 [==============================] - 1s 2ms/step - loss: 0.0088 - accuracy: 0.9977\n"
     ]
    }
   ],
   "source": [
    "# Fit function initiates the training of the neural network - (Training the ANN on the Training set)\n",
    "\n",
    "history = network.fit(X_train, y_train, batch_size=128, epochs=10)"
   ]
  },
  {
   "cell_type": "markdown",
   "metadata": {},
   "source": [
    "# Neural network (evaluation)"
   ]
  },
  {
   "cell_type": "code",
   "execution_count": 40,
   "metadata": {},
   "outputs": [
    {
     "data": {
      "text/plain": [
       "dict_keys(['loss', 'accuracy'])"
      ]
     },
     "execution_count": 40,
     "metadata": {},
     "output_type": "execute_result"
    }
   ],
   "source": [
    "# The history variable allows us to get the history of the training. We can see the loss and accuracy.\n",
    "\n",
    "history.history.keys()"
   ]
  },
  {
   "cell_type": "code",
   "execution_count": 42,
   "metadata": {},
   "outputs": [
    {
     "data": {
      "image/png": "[encoded data removed]",
      "text/plain": [
       "<Figure size 432x288 with 1 Axes>"
      ]
     },
     "metadata": {
      "needs_background": "light"
     },
     "output_type": "display_data"
    }
   ],
   "source": [
    "plt.plot(history.history['loss'])\n",
    "plt.title('Loss ')\n",
    "plt.show()"
   ]
  },
  {
   "cell_type": "code",
   "execution_count": 43,
   "metadata": {},
   "outputs": [
    {
     "data": {
      "image/png": "[encoded data removed]",
      "text/plain": [
       "<Figure size 432x288 with 1 Axes>"
      ]
     },
     "metadata": {
      "needs_background": "light"
     },
     "output_type": "display_data"
    }
   ],
   "source": [
    "plt.plot(history.history['accuracy'])\n",
    "plt.title('Accuracy ')\n",
    "plt.show()"
   ]
  },
  {
   "cell_type": "code",
   "execution_count": 44,
   "metadata": {},
   "outputs": [
    {
     "name": "stdout",
     "output_type": "stream",
     "text": [
      "650/650 [==============================] - 1s 919us/step - loss: 0.0082 - accuracy: 0.9977\n"
     ]
    }
   ],
   "source": [
    "# Evaluating the algorithm\n",
    "\n",
    "accuracy_test = network.evaluate(X_test, y_test)"
   ]
  },
  {
   "cell_type": "markdown",
   "metadata": {},
   "source": [
    "From the results above we can see that the real <b>loss is: 0.0082</b> and the real <b>accuracy is: 0.9977</b> "
   ]
  },
  {
   "cell_type": "code",
   "execution_count": 45,
   "metadata": {},
   "outputs": [],
   "source": [
    "predictions = network.predict(X_test)"
   ]
  },
  {
   "cell_type": "markdown",
   "metadata": {},
   "source": [
    "#### Notice we will have 5 values below, one prediction for each class of our Activity (class variable)"
   ]
  },
  {
   "cell_type": "code",
   "execution_count": 47,
   "metadata": {},
   "outputs": [
    {
     "data": {
      "text/plain": [
       "array([9.9998736e-01, 3.3375898e-07, 2.9051305e-06, 4.3267559e-07,\n",
       "       8.9533833e-06], dtype=float32)"
      ]
     },
     "execution_count": 47,
     "metadata": {},
     "output_type": "execute_result"
    }
   ],
   "source": [
    "predictions[0]"
   ]
  },
  {
   "cell_type": "code",
   "execution_count": 69,
   "metadata": {},
   "outputs": [
    {
     "data": {
      "text/plain": [
       "array([1., 0., 0., 0., 0.], dtype=float32)"
      ]
     },
     "execution_count": 69,
     "metadata": {},
     "output_type": "execute_result"
    }
   ],
   "source": [
    " y_test[0]"
   ]
  },
  {
   "cell_type": "code",
   "execution_count": 72,
   "metadata": {},
   "outputs": [
    {
     "data": {
      "text/plain": [
       "0"
      ]
     },
     "execution_count": 72,
     "metadata": {},
     "output_type": "execute_result"
    }
   ],
   "source": [
    "np.argmax(predictions[0])"
   ]
  },
  {
   "cell_type": "code",
   "execution_count": 76,
   "metadata": {},
   "outputs": [
    {
     "name": "stdout",
     "output_type": "stream",
     "text": [
      "Vibration\n"
     ]
    }
   ],
   "source": [
    "print(df['Activity'][np.argmax(predictions[0])])"
   ]
  },
  {
   "cell_type": "code",
   "execution_count": 77,
   "metadata": {},
   "outputs": [
    {
     "data": {
      "text/html": [
       "<div>\n",
       "<style>\n",
       "    .dataframe thead tr:only-child th {\n",
       "        text-align: right;\n",
       "    }\n",
       "\n",
       "    .dataframe thead th {\n",
       "        text-align: left;\n",
       "    }\n",
       "\n",
       "    .dataframe tbody tr th {\n",
       "        vertical-align: top;\n",
       "    }\n",
       "</style>\n",
       "<table border=\"1\" class=\"dataframe\">\n",
       "  <thead>\n",
       "    <tr style=\"text-align: right;\">\n",
       "      <th></th>\n",
       "      <th>Acceleration_Timestamp</th>\n",
       "      <th>Acc_X</th>\n",
       "      <th>Acc_Y</th>\n",
       "      <th>Acc_Z</th>\n",
       "      <th>AngV_X</th>\n",
       "      <th>AngV_Y</th>\n",
       "      <th>AngV_Z</th>\n",
       "      <th>Mag_X</th>\n",
       "      <th>Mag_Y</th>\n",
       "      <th>Mag_Z</th>\n",
       "      <th>Orin_X</th>\n",
       "      <th>Orin_Y</th>\n",
       "      <th>Orin_Z</th>\n",
       "      <th>Activity</th>\n",
       "    </tr>\n",
       "  </thead>\n",
       "  <tbody>\n",
       "    <tr>\n",
       "      <th>0</th>\n",
       "      <td>10-11-2019 19:05:56.381</td>\n",
       "      <td>-0.131576</td>\n",
       "      <td>-0.086370</td>\n",
       "      <td>9.398655</td>\n",
       "      <td>-0.008043</td>\n",
       "      <td>0.006485</td>\n",
       "      <td>-0.013777</td>\n",
       "      <td>21.740547</td>\n",
       "      <td>-3.269182</td>\n",
       "      <td>-26.693754</td>\n",
       "      <td>-77.395704</td>\n",
       "      <td>-0.891910</td>\n",
       "      <td>1.271720</td>\n",
       "      <td>Vibration</td>\n",
       "    </tr>\n",
       "    <tr>\n",
       "      <th>1</th>\n",
       "      <td>10-11-2019 19:05:56.391</td>\n",
       "      <td>-0.122146</td>\n",
       "      <td>0.239352</td>\n",
       "      <td>9.314530</td>\n",
       "      <td>-0.006196</td>\n",
       "      <td>-0.003392</td>\n",
       "      <td>-0.014942</td>\n",
       "      <td>17.138367</td>\n",
       "      <td>-10.707533</td>\n",
       "      <td>-22.636873</td>\n",
       "      <td>-77.394480</td>\n",
       "      <td>-0.890001</td>\n",
       "      <td>1.269079</td>\n",
       "      <td>Vibration</td>\n",
       "    </tr>\n",
       "    <tr>\n",
       "      <th>2</th>\n",
       "      <td>10-11-2019 19:05:56.400</td>\n",
       "      <td>0.095950</td>\n",
       "      <td>0.429307</td>\n",
       "      <td>9.773775</td>\n",
       "      <td>0.002659</td>\n",
       "      <td>0.011626</td>\n",
       "      <td>-0.012663</td>\n",
       "      <td>17.138367</td>\n",
       "      <td>-10.707533</td>\n",
       "      <td>-22.636873</td>\n",
       "      <td>-77.393229</td>\n",
       "      <td>-0.891062</td>\n",
       "      <td>1.267604</td>\n",
       "      <td>Vibration</td>\n",
       "    </tr>\n",
       "  </tbody>\n",
       "</table>\n",
       "</div>"
      ],
      "text/plain": [
       "    Acceleration_Timestamp     Acc_X     Acc_Y     Acc_Z    AngV_X    AngV_Y  \\\n",
       "0  10-11-2019 19:05:56.381 -0.131576 -0.086370  9.398655 -0.008043  0.006485   \n",
       "1  10-11-2019 19:05:56.391 -0.122146  0.239352  9.314530 -0.006196 -0.003392   \n",
       "2  10-11-2019 19:05:56.400  0.095950  0.429307  9.773775  0.002659  0.011626   \n",
       "\n",
       "     AngV_Z      Mag_X      Mag_Y      Mag_Z     Orin_X    Orin_Y    Orin_Z  \\\n",
       "0 -0.013777  21.740547  -3.269182 -26.693754 -77.395704 -0.891910  1.271720   \n",
       "1 -0.014942  17.138367 -10.707533 -22.636873 -77.394480 -0.890001  1.269079   \n",
       "2 -0.012663  17.138367 -10.707533 -22.636873 -77.393229 -0.891062  1.267604   \n",
       "\n",
       "    Activity  \n",
       "0  Vibration  \n",
       "1  Vibration  \n",
       "2  Vibration  "
      ]
     },
     "execution_count": 77,
     "metadata": {},
     "output_type": "execute_result"
    }
   ],
   "source": [
    "df.head(3)"
   ]
  },
  {
   "cell_type": "markdown",
   "metadata": {},
   "source": [
    "# Testing model on Unseen Dataset"
   ]
  },
  {
   "cell_type": "code",
   "execution_count": 86,
   "metadata": {},
   "outputs": [],
   "source": [
    "unseen_df= pd.read_csv('Chatty_unseen_test.csv')"
   ]
  },
  {
   "cell_type": "code",
   "execution_count": 87,
   "metadata": {},
   "outputs": [
    {
     "name": "stdout",
     "output_type": "stream",
     "text": [
      "<class 'pandas.core.frame.DataFrame'>\n",
      "RangeIndex: 25333 entries, 0 to 25332\n",
      "Data columns (total 17 columns):\n",
      "Acceleration_Timestamp    25333 non-null object\n",
      "Acc_X                     25333 non-null float64\n",
      "Acc_Y                     25333 non-null float64\n",
      "Acc_Z                     25333 non-null float64\n",
      "AngVelocity_Timestamp     25333 non-null object\n",
      "AngV_X                    25333 non-null float64\n",
      "AngV_Y                    25333 non-null float64\n",
      "AngV_Z                    25333 non-null float64\n",
      "MagField_Timestamp        25333 non-null object\n",
      "Mag_X                     25333 non-null float64\n",
      "Mag_Y                     25333 non-null float64\n",
      "Mag_Z                     25333 non-null float64\n",
      "Orientation_Timestamp     25333 non-null object\n",
      "Orin_X                    25333 non-null float64\n",
      "Orin_Y                    25333 non-null float64\n",
      "Orin_Z                    25333 non-null float64\n",
      "Activity                  25333 non-null object\n",
      "dtypes: float64(12), object(5)\n",
      "memory usage: 3.3+ MB\n"
     ]
    }
   ],
   "source": [
    "unseen_df.info()"
   ]
  },
  {
   "cell_type": "code",
   "execution_count": 88,
   "metadata": {},
   "outputs": [
    {
     "data": {
      "text/html": [
       "<div>\n",
       "<style>\n",
       "    .dataframe thead tr:only-child th {\n",
       "        text-align: right;\n",
       "    }\n",
       "\n",
       "    .dataframe thead th {\n",
       "        text-align: left;\n",
       "    }\n",
       "\n",
       "    .dataframe tbody tr th {\n",
       "        vertical-align: top;\n",
       "    }\n",
       "</style>\n",
       "<table border=\"1\" class=\"dataframe\">\n",
       "  <thead>\n",
       "    <tr style=\"text-align: right;\">\n",
       "      <th></th>\n",
       "      <th>Acceleration_Timestamp</th>\n",
       "      <th>Acc_X</th>\n",
       "      <th>Acc_Y</th>\n",
       "      <th>Acc_Z</th>\n",
       "      <th>AngVelocity_Timestamp</th>\n",
       "      <th>AngV_X</th>\n",
       "      <th>AngV_Y</th>\n",
       "      <th>AngV_Z</th>\n",
       "      <th>MagField_Timestamp</th>\n",
       "      <th>Mag_X</th>\n",
       "      <th>Mag_Y</th>\n",
       "      <th>Mag_Z</th>\n",
       "      <th>Orientation_Timestamp</th>\n",
       "      <th>Orin_X</th>\n",
       "      <th>Orin_Y</th>\n",
       "      <th>Orin_Z</th>\n",
       "      <th>Activity</th>\n",
       "    </tr>\n",
       "  </thead>\n",
       "  <tbody>\n",
       "    <tr>\n",
       "      <th>0</th>\n",
       "      <td>10-11-2019 19:09:11.942</td>\n",
       "      <td>-0.039518</td>\n",
       "      <td>0.061223</td>\n",
       "      <td>9.225316</td>\n",
       "      <td>10-11-2019 19:09:11.935</td>\n",
       "      <td>-0.003344</td>\n",
       "      <td>0.007547</td>\n",
       "      <td>-0.011374</td>\n",
       "      <td>10-11-2019 19:09:11.942</td>\n",
       "      <td>-38.403454</td>\n",
       "      <td>71.784752</td>\n",
       "      <td>26.648933</td>\n",
       "      <td>10-11-2019 19:09:11.942</td>\n",
       "      <td>-77.627394</td>\n",
       "      <td>-0.741489</td>\n",
       "      <td>1.230980</td>\n",
       "      <td>Vibration</td>\n",
       "    </tr>\n",
       "    <tr>\n",
       "      <th>1</th>\n",
       "      <td>10-11-2019 19:09:11.952</td>\n",
       "      <td>0.158520</td>\n",
       "      <td>0.417781</td>\n",
       "      <td>9.044642</td>\n",
       "      <td>10-11-2019 19:09:11.945</td>\n",
       "      <td>-0.004196</td>\n",
       "      <td>-0.001461</td>\n",
       "      <td>-0.012413</td>\n",
       "      <td>10-11-2019 19:09:11.952</td>\n",
       "      <td>-38.403454</td>\n",
       "      <td>71.784752</td>\n",
       "      <td>26.648933</td>\n",
       "      <td>10-11-2019 19:09:11.952</td>\n",
       "      <td>-77.626883</td>\n",
       "      <td>-0.741244</td>\n",
       "      <td>1.229572</td>\n",
       "      <td>Vibration</td>\n",
       "    </tr>\n",
       "    <tr>\n",
       "      <th>2</th>\n",
       "      <td>10-11-2019 19:09:11.962</td>\n",
       "      <td>-0.248034</td>\n",
       "      <td>0.344883</td>\n",
       "      <td>10.249486</td>\n",
       "      <td>10-11-2019 19:09:11.955</td>\n",
       "      <td>0.000868</td>\n",
       "      <td>0.002855</td>\n",
       "      <td>-0.015191</td>\n",
       "      <td>10-11-2019 19:09:11.962</td>\n",
       "      <td>-32.937233</td>\n",
       "      <td>74.560638</td>\n",
       "      <td>22.709229</td>\n",
       "      <td>10-11-2019 19:09:11.962</td>\n",
       "      <td>-77.625985</td>\n",
       "      <td>-0.742044</td>\n",
       "      <td>1.224206</td>\n",
       "      <td>Vibration</td>\n",
       "    </tr>\n",
       "  </tbody>\n",
       "</table>\n",
       "</div>"
      ],
      "text/plain": [
       "    Acceleration_Timestamp     Acc_X     Acc_Y      Acc_Z  \\\n",
       "0  10-11-2019 19:09:11.942 -0.039518  0.061223   9.225316   \n",
       "1  10-11-2019 19:09:11.952  0.158520  0.417781   9.044642   \n",
       "2  10-11-2019 19:09:11.962 -0.248034  0.344883  10.249486   \n",
       "\n",
       "     AngVelocity_Timestamp    AngV_X    AngV_Y    AngV_Z  \\\n",
       "0  10-11-2019 19:09:11.935 -0.003344  0.007547 -0.011374   \n",
       "1  10-11-2019 19:09:11.945 -0.004196 -0.001461 -0.012413   \n",
       "2  10-11-2019 19:09:11.955  0.000868  0.002855 -0.015191   \n",
       "\n",
       "        MagField_Timestamp      Mag_X      Mag_Y      Mag_Z  \\\n",
       "0  10-11-2019 19:09:11.942 -38.403454  71.784752  26.648933   \n",
       "1  10-11-2019 19:09:11.952 -38.403454  71.784752  26.648933   \n",
       "2  10-11-2019 19:09:11.962 -32.937233  74.560638  22.709229   \n",
       "\n",
       "     Orientation_Timestamp     Orin_X    Orin_Y    Orin_Z   Activity  \n",
       "0  10-11-2019 19:09:11.942 -77.627394 -0.741489  1.230980  Vibration  \n",
       "1  10-11-2019 19:09:11.952 -77.626883 -0.741244  1.229572  Vibration  \n",
       "2  10-11-2019 19:09:11.962 -77.625985 -0.742044  1.224206  Vibration  "
      ]
     },
     "execution_count": 88,
     "metadata": {},
     "output_type": "execute_result"
    }
   ],
   "source": [
    "unseen_df.head(3)"
   ]
  },
  {
   "cell_type": "code",
   "execution_count": 89,
   "metadata": {},
   "outputs": [],
   "source": [
    "unseen_df_2 = unseen_df.drop(['AngVelocity_Timestamp','AngVelocity_Timestamp','MagField_Timestamp','Orientation_Timestamp'],axis=1)"
   ]
  },
  {
   "cell_type": "code",
   "execution_count": 90,
   "metadata": {},
   "outputs": [
    {
     "data": {
      "text/html": [
       "<div>\n",
       "<style>\n",
       "    .dataframe thead tr:only-child th {\n",
       "        text-align: right;\n",
       "    }\n",
       "\n",
       "    .dataframe thead th {\n",
       "        text-align: left;\n",
       "    }\n",
       "\n",
       "    .dataframe tbody tr th {\n",
       "        vertical-align: top;\n",
       "    }\n",
       "</style>\n",
       "<table border=\"1\" class=\"dataframe\">\n",
       "  <thead>\n",
       "    <tr style=\"text-align: right;\">\n",
       "      <th></th>\n",
       "      <th>Acceleration_Timestamp</th>\n",
       "      <th>Acc_X</th>\n",
       "      <th>Acc_Y</th>\n",
       "      <th>Acc_Z</th>\n",
       "      <th>AngV_X</th>\n",
       "      <th>AngV_Y</th>\n",
       "      <th>AngV_Z</th>\n",
       "      <th>Mag_X</th>\n",
       "      <th>Mag_Y</th>\n",
       "      <th>Mag_Z</th>\n",
       "      <th>Orin_X</th>\n",
       "      <th>Orin_Y</th>\n",
       "      <th>Orin_Z</th>\n",
       "      <th>Activity</th>\n",
       "    </tr>\n",
       "  </thead>\n",
       "  <tbody>\n",
       "    <tr>\n",
       "      <th>0</th>\n",
       "      <td>10-11-2019 19:09:11.942</td>\n",
       "      <td>-0.039518</td>\n",
       "      <td>0.061223</td>\n",
       "      <td>9.225316</td>\n",
       "      <td>-0.003344</td>\n",
       "      <td>0.007547</td>\n",
       "      <td>-0.011374</td>\n",
       "      <td>-38.403454</td>\n",
       "      <td>71.784752</td>\n",
       "      <td>26.648933</td>\n",
       "      <td>-77.627394</td>\n",
       "      <td>-0.741489</td>\n",
       "      <td>1.230980</td>\n",
       "      <td>Vibration</td>\n",
       "    </tr>\n",
       "    <tr>\n",
       "      <th>1</th>\n",
       "      <td>10-11-2019 19:09:11.952</td>\n",
       "      <td>0.158520</td>\n",
       "      <td>0.417781</td>\n",
       "      <td>9.044642</td>\n",
       "      <td>-0.004196</td>\n",
       "      <td>-0.001461</td>\n",
       "      <td>-0.012413</td>\n",
       "      <td>-38.403454</td>\n",
       "      <td>71.784752</td>\n",
       "      <td>26.648933</td>\n",
       "      <td>-77.626883</td>\n",
       "      <td>-0.741244</td>\n",
       "      <td>1.229572</td>\n",
       "      <td>Vibration</td>\n",
       "    </tr>\n",
       "  </tbody>\n",
       "</table>\n",
       "</div>"
      ],
      "text/plain": [
       "    Acceleration_Timestamp     Acc_X     Acc_Y     Acc_Z    AngV_X    AngV_Y  \\\n",
       "0  10-11-2019 19:09:11.942 -0.039518  0.061223  9.225316 -0.003344  0.007547   \n",
       "1  10-11-2019 19:09:11.952  0.158520  0.417781  9.044642 -0.004196 -0.001461   \n",
       "\n",
       "     AngV_Z      Mag_X      Mag_Y      Mag_Z     Orin_X    Orin_Y    Orin_Z  \\\n",
       "0 -0.011374 -38.403454  71.784752  26.648933 -77.627394 -0.741489  1.230980   \n",
       "1 -0.012413 -38.403454  71.784752  26.648933 -77.626883 -0.741244  1.229572   \n",
       "\n",
       "    Activity  \n",
       "0  Vibration  \n",
       "1  Vibration  "
      ]
     },
     "execution_count": 90,
     "metadata": {},
     "output_type": "execute_result"
    }
   ],
   "source": [
    "unseen_df_2.head(2)"
   ]
  },
  {
   "cell_type": "code",
   "execution_count": 91,
   "metadata": {},
   "outputs": [],
   "source": [
    "from sklearn.preprocessing import LabelEncoder\n",
    "le = LabelEncoder()\n",
    "\n",
    "UnS_Act_class = le.fit_transform(unseen_df_2['Activity'])"
   ]
  },
  {
   "cell_type": "code",
   "execution_count": 92,
   "metadata": {},
   "outputs": [
    {
     "data": {
      "text/plain": [
       "array([3, 3, 3, ..., 2, 2, 2])"
      ]
     },
     "execution_count": 92,
     "metadata": {},
     "output_type": "execute_result"
    }
   ],
   "source": [
    "UnS_Act_class"
   ]
  },
  {
   "cell_type": "code",
   "execution_count": 93,
   "metadata": {},
   "outputs": [],
   "source": [
    "# selecting x and y values for the unseen data\n",
    "\n",
    "X_u= unseen_df_2.iloc[:, 1:-1].values\n",
    "y_u = UnS_Act_class\n"
   ]
  },
  {
   "cell_type": "markdown",
   "metadata": {},
   "source": [
    "scaling the feature"
   ]
  },
  {
   "cell_type": "code",
   "execution_count": 94,
   "metadata": {},
   "outputs": [],
   "source": [
    "X_u = sc.fit_transform(X_u)"
   ]
  },
  {
   "cell_type": "code",
   "execution_count": 98,
   "metadata": {},
   "outputs": [],
   "source": [
    "# Encoding the classes \n",
    "y_u = np_utils.to_categorical(y_u)"
   ]
  },
  {
   "cell_type": "code",
   "execution_count": 99,
   "metadata": {},
   "outputs": [
    {
     "data": {
      "text/plain": [
       "array([[0., 0., 0., 1., 0.],\n",
       "       [0., 0., 0., 1., 0.],\n",
       "       [0., 0., 0., 1., 0.],\n",
       "       ...,\n",
       "       [0., 0., 1., 0., 0.],\n",
       "       [0., 0., 1., 0., 0.],\n",
       "       [0., 0., 1., 0., 0.]], dtype=float32)"
      ]
     },
     "execution_count": 99,
     "metadata": {},
     "output_type": "execute_result"
    }
   ],
   "source": [
    "y_u"
   ]
  },
  {
   "cell_type": "code",
   "execution_count": 103,
   "metadata": {},
   "outputs": [
    {
     "name": "stdout",
     "output_type": "stream",
     "text": [
      "792/792 [==============================] - 20s 25ms/step - loss: 0.0066 - accuracy: 0.9991 ETA: 18s - loss: 6.3699e-04 - accurac - ETA: 15s - loss: 4.5714e - ETA: 13s - loss: 6.8682e-04 - accuracy: 1.000 - ETA: 13s - loss: 6.9031e-04 - accuracy: 1.000 - ETA: 13s - loss: 6.9399e-04 - accuracy: - ETA: 13s - loss: 7.9047e-04 - accuracy: 1.00 - ETA: 1 - ETA\n"
     ]
    }
   ],
   "source": [
    "Unseen_accuracy_test = network.evaluate(X_u, y_u)"
   ]
  },
  {
   "cell_type": "code",
   "execution_count": null,
   "metadata": {},
   "outputs": [],
   "source": []
  }
 ],
 "metadata": {
  "kernelspec": {
   "display_name": "Python 3",
   "language": "python",
   "name": "python3"
  },
  "language_info": {
   "codemirror_mode": {
    "name": "ipython",
    "version": 3
   },
   "file_extension": ".py",
   "mimetype": "text/x-python",
   "name": "python",
   "nbconvert_exporter": "python",
   "pygments_lexer": "ipython3",
   "version": "3.8.5"
  }
 },
 "nbformat": 4,
 "nbformat_minor": 2
}
