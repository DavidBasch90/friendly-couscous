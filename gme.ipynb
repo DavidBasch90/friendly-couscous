{
 "cells": [
  {
   "cell_type": "code",
   "execution_count": 18,
   "metadata": {},
   "outputs": [],
   "source": [
    "import pandas as pd\n",
    "import numpy as np\n",
    "import matplotlib.pyplot as plt\n",
    "%matplotlib inline\n",
    "import seaborn as sns\n",
    "import plotly.express as px\n",
    "from mpl_toolkits.mplot3d import Axes3D\n",
    "from scipy.stats import pearsonr"
   ]
  },
  {
   "cell_type": "code",
   "execution_count": 3,
   "metadata": {},
   "outputs": [],
   "source": [
    "gme = pd.read_excel ('C:\\\\Users\\\\David\\\\Downloads\\\\GME.xlsx')\n",
    "gme.rename(columns={'Open' : 'gmeOpen', 'High' : 'gmeHigh','Low' : 'gmeLow','Close' : 'gmeClose','Adj Close' : 'gmeAdjClose', 'Volume' : 'gmeVolume'}, inplace=True)\n",
    "\n",
    "btc = pd.read_excel ('C:\\\\Users\\\\David\\\\Downloads\\\\BTC-USD.xlsx')\n",
    "btc.rename(columns={'Open' : 'btcOpen', 'High' : 'btcHigh','Low' : 'btcLow','Close' : 'btcClose','Adj Close' : 'btcAdjClose', 'Volume' : 'btcVolume'}, inplace=True)\n",
    "\n",
    "amc = pd.read_excel ('C:\\\\Users\\\\David\\\\Downloads\\\\AMC.xlsx')\n",
    "amc.rename(columns={'Open' : 'amcOpen', 'High' : 'amcHigh','Low' : 'amcLow','Close' : 'amcClose','Adj Close' : 'amcAdjClose', 'Volume' : 'amcVolume'}, inplace=True)\n",
    "\n",
    "doge = pd.read_excel ('C:\\\\Users\\\\David\\\\Downloads\\\\DOGE-USD.xlsx')\n",
    "doge.rename(columns={'Open' : 'dogeOpen', 'High' : 'dogeHigh','Low' : 'dogeLow','Close' : 'dogeClose','Adj Close' : 'dogeAdjClose', 'Volume' : 'dogeVolume'}, inplace=True)\n",
    "\n",
    "rr = pd.read_excel ('C:\\\\Users\\\\David\\\\Downloads\\\\reverseRepo.xlsx')\n",
    "rr = rr.rename(columns={'observation_date' : 'Date'})\n",
    "\n",
    "ftd = pd.read_excel ('C:\\\\Users\\\\David\\\\Desktop\\\\ftd.xlsx')\n",
    "\n"
   ]
  },
  {
   "cell_type": "code",
   "execution_count": 15,
   "metadata": {},
   "outputs": [
    {
     "data": {
      "text/html": [
       "<div>\n",
       "<style scoped>\n",
       "    .dataframe tbody tr th:only-of-type {\n",
       "        vertical-align: middle;\n",
       "    }\n",
       "\n",
       "    .dataframe tbody tr th {\n",
       "        vertical-align: top;\n",
       "    }\n",
       "\n",
       "    .dataframe thead th {\n",
       "        text-align: right;\n",
       "    }\n",
       "</style>\n",
       "<table border=\"1\" class=\"dataframe\">\n",
       "  <thead>\n",
       "    <tr style=\"text-align: right;\">\n",
       "      <th></th>\n",
       "      <th>SETTLEMENT DATE</th>\n",
       "      <th>CUSIP</th>\n",
       "      <th>SYMBOL</th>\n",
       "      <th>QUANTITY (FAILS)</th>\n",
       "      <th>DESCRIPTION</th>\n",
       "      <th>PRICE</th>\n",
       "    </tr>\n",
       "  </thead>\n",
       "  <tbody>\n",
       "    <tr>\n",
       "      <th>8862</th>\n",
       "      <td>20210616</td>\n",
       "      <td>36467W109</td>\n",
       "      <td>GME</td>\n",
       "      <td>3869.0</td>\n",
       "      <td>GAMESTOP CORP (HLDG CO) CL A</td>\n",
       "      <td>222.5</td>\n",
       "    </tr>\n",
       "    <tr>\n",
       "      <th>14697</th>\n",
       "      <td>20210617</td>\n",
       "      <td>36467W109</td>\n",
       "      <td>GME</td>\n",
       "      <td>8690.0</td>\n",
       "      <td>GAMESTOP CORP (HLDG CO) CL A</td>\n",
       "      <td>222.97</td>\n",
       "    </tr>\n",
       "    <tr>\n",
       "      <th>20548</th>\n",
       "      <td>20210618</td>\n",
       "      <td>36467W109</td>\n",
       "      <td>GME</td>\n",
       "      <td>462852.0</td>\n",
       "      <td>GAMESTOP CORP (HLDG CO) CL A</td>\n",
       "      <td>223.59</td>\n",
       "    </tr>\n",
       "    <tr>\n",
       "      <th>26387</th>\n",
       "      <td>20210621</td>\n",
       "      <td>36467W109</td>\n",
       "      <td>GME</td>\n",
       "      <td>13632.0</td>\n",
       "      <td>GAMESTOP CORP (HLDG CO) CL A</td>\n",
       "      <td>213.82</td>\n",
       "    </tr>\n",
       "    <tr>\n",
       "      <th>32639</th>\n",
       "      <td>20210622</td>\n",
       "      <td>36467W109</td>\n",
       "      <td>GME</td>\n",
       "      <td>25276.0</td>\n",
       "      <td>GAMESTOP CORP (HLDG CO) CL A</td>\n",
       "      <td>200.37</td>\n",
       "    </tr>\n",
       "    <tr>\n",
       "      <th>38886</th>\n",
       "      <td>20210623</td>\n",
       "      <td>36467W109</td>\n",
       "      <td>GME</td>\n",
       "      <td>89304.0</td>\n",
       "      <td>GAMESTOP CORP (HLDG CO) CL A</td>\n",
       "      <td>220.4</td>\n",
       "    </tr>\n",
       "    <tr>\n",
       "      <th>44734</th>\n",
       "      <td>20210624</td>\n",
       "      <td>36467W109</td>\n",
       "      <td>GME</td>\n",
       "      <td>1853.0</td>\n",
       "      <td>GAMESTOP CORP (HLDG CO) CL A</td>\n",
       "      <td>219.34</td>\n",
       "    </tr>\n",
       "    <tr>\n",
       "      <th>50626</th>\n",
       "      <td>20210625</td>\n",
       "      <td>36467W109</td>\n",
       "      <td>GME</td>\n",
       "      <td>26507.0</td>\n",
       "      <td>GAMESTOP CORP (HLDG CO) CL A</td>\n",
       "      <td>212.31</td>\n",
       "    </tr>\n",
       "    <tr>\n",
       "      <th>56651</th>\n",
       "      <td>20210628</td>\n",
       "      <td>36467W109</td>\n",
       "      <td>GME</td>\n",
       "      <td>134659.0</td>\n",
       "      <td>GAMESTOP CORP (HLDG CO) CL A</td>\n",
       "      <td>209.51</td>\n",
       "    </tr>\n",
       "    <tr>\n",
       "      <th>62853</th>\n",
       "      <td>20210629</td>\n",
       "      <td>36467W109</td>\n",
       "      <td>GME</td>\n",
       "      <td>346542.0</td>\n",
       "      <td>GAMESTOP CORP (HLDG CO) CL A</td>\n",
       "      <td>213.25</td>\n",
       "    </tr>\n",
       "    <tr>\n",
       "      <th>68932</th>\n",
       "      <td>20210630</td>\n",
       "      <td>36467W109</td>\n",
       "      <td>GME</td>\n",
       "      <td>6246.0</td>\n",
       "      <td>GAMESTOP CORP (HLDG CO) CL A</td>\n",
       "      <td>210.88</td>\n",
       "    </tr>\n",
       "  </tbody>\n",
       "</table>\n",
       "</div>"
      ],
      "text/plain": [
       "      SETTLEMENT DATE      CUSIP SYMBOL  QUANTITY (FAILS)  \\\n",
       "8862         20210616  36467W109    GME            3869.0   \n",
       "14697        20210617  36467W109    GME            8690.0   \n",
       "20548        20210618  36467W109    GME          462852.0   \n",
       "26387        20210621  36467W109    GME           13632.0   \n",
       "32639        20210622  36467W109    GME           25276.0   \n",
       "38886        20210623  36467W109    GME           89304.0   \n",
       "44734        20210624  36467W109    GME            1853.0   \n",
       "50626        20210625  36467W109    GME           26507.0   \n",
       "56651        20210628  36467W109    GME          134659.0   \n",
       "62853        20210629  36467W109    GME          346542.0   \n",
       "68932        20210630  36467W109    GME            6246.0   \n",
       "\n",
       "                        DESCRIPTION   PRICE  \n",
       "8862   GAMESTOP CORP (HLDG CO) CL A   222.5  \n",
       "14697  GAMESTOP CORP (HLDG CO) CL A  222.97  \n",
       "20548  GAMESTOP CORP (HLDG CO) CL A  223.59  \n",
       "26387  GAMESTOP CORP (HLDG CO) CL A  213.82  \n",
       "32639  GAMESTOP CORP (HLDG CO) CL A  200.37  \n",
       "38886  GAMESTOP CORP (HLDG CO) CL A   220.4  \n",
       "44734  GAMESTOP CORP (HLDG CO) CL A  219.34  \n",
       "50626  GAMESTOP CORP (HLDG CO) CL A  212.31  \n",
       "56651  GAMESTOP CORP (HLDG CO) CL A  209.51  \n",
       "62853  GAMESTOP CORP (HLDG CO) CL A  213.25  \n",
       "68932  GAMESTOP CORP (HLDG CO) CL A  210.88  "
      ]
     },
     "execution_count": 15,
     "metadata": {},
     "output_type": "execute_result"
    }
   ],
   "source": [
    "ftd"
   ]
  },
  {
   "cell_type": "code",
   "execution_count": 24,
   "metadata": {},
   "outputs": [
    {
     "data": {
      "text/html": [
       "<div>\n",
       "<style scoped>\n",
       "    .dataframe tbody tr th:only-of-type {\n",
       "        vertical-align: middle;\n",
       "    }\n",
       "\n",
       "    .dataframe tbody tr th {\n",
       "        vertical-align: top;\n",
       "    }\n",
       "\n",
       "    .dataframe thead th {\n",
       "        text-align: right;\n",
       "    }\n",
       "</style>\n",
       "<table border=\"1\" class=\"dataframe\">\n",
       "  <thead>\n",
       "    <tr style=\"text-align: right;\">\n",
       "      <th></th>\n",
       "      <th>SETTLEMENT DATE</th>\n",
       "      <th>CUSIP</th>\n",
       "      <th>SYMBOL</th>\n",
       "      <th>QUANTITY (FAILS)</th>\n",
       "      <th>DESCRIPTION</th>\n",
       "      <th>PRICE</th>\n",
       "    </tr>\n",
       "  </thead>\n",
       "  <tbody>\n",
       "    <tr>\n",
       "      <th>8862</th>\n",
       "      <td>20210616</td>\n",
       "      <td>36467W109</td>\n",
       "      <td>GME</td>\n",
       "      <td>3869.0</td>\n",
       "      <td>GAMESTOP CORP (HLDG CO) CL A</td>\n",
       "      <td>222.5</td>\n",
       "    </tr>\n",
       "    <tr>\n",
       "      <th>14697</th>\n",
       "      <td>20210617</td>\n",
       "      <td>36467W109</td>\n",
       "      <td>GME</td>\n",
       "      <td>8690.0</td>\n",
       "      <td>GAMESTOP CORP (HLDG CO) CL A</td>\n",
       "      <td>222.97</td>\n",
       "    </tr>\n",
       "    <tr>\n",
       "      <th>20548</th>\n",
       "      <td>20210618</td>\n",
       "      <td>36467W109</td>\n",
       "      <td>GME</td>\n",
       "      <td>462852.0</td>\n",
       "      <td>GAMESTOP CORP (HLDG CO) CL A</td>\n",
       "      <td>223.59</td>\n",
       "    </tr>\n",
       "    <tr>\n",
       "      <th>26387</th>\n",
       "      <td>20210621</td>\n",
       "      <td>36467W109</td>\n",
       "      <td>GME</td>\n",
       "      <td>13632.0</td>\n",
       "      <td>GAMESTOP CORP (HLDG CO) CL A</td>\n",
       "      <td>213.82</td>\n",
       "    </tr>\n",
       "    <tr>\n",
       "      <th>32639</th>\n",
       "      <td>20210622</td>\n",
       "      <td>36467W109</td>\n",
       "      <td>GME</td>\n",
       "      <td>25276.0</td>\n",
       "      <td>GAMESTOP CORP (HLDG CO) CL A</td>\n",
       "      <td>200.37</td>\n",
       "    </tr>\n",
       "    <tr>\n",
       "      <th>38886</th>\n",
       "      <td>20210623</td>\n",
       "      <td>36467W109</td>\n",
       "      <td>GME</td>\n",
       "      <td>89304.0</td>\n",
       "      <td>GAMESTOP CORP (HLDG CO) CL A</td>\n",
       "      <td>220.4</td>\n",
       "    </tr>\n",
       "    <tr>\n",
       "      <th>44734</th>\n",
       "      <td>20210624</td>\n",
       "      <td>36467W109</td>\n",
       "      <td>GME</td>\n",
       "      <td>1853.0</td>\n",
       "      <td>GAMESTOP CORP (HLDG CO) CL A</td>\n",
       "      <td>219.34</td>\n",
       "    </tr>\n",
       "    <tr>\n",
       "      <th>50626</th>\n",
       "      <td>20210625</td>\n",
       "      <td>36467W109</td>\n",
       "      <td>GME</td>\n",
       "      <td>26507.0</td>\n",
       "      <td>GAMESTOP CORP (HLDG CO) CL A</td>\n",
       "      <td>212.31</td>\n",
       "    </tr>\n",
       "    <tr>\n",
       "      <th>56651</th>\n",
       "      <td>20210628</td>\n",
       "      <td>36467W109</td>\n",
       "      <td>GME</td>\n",
       "      <td>134659.0</td>\n",
       "      <td>GAMESTOP CORP (HLDG CO) CL A</td>\n",
       "      <td>209.51</td>\n",
       "    </tr>\n",
       "    <tr>\n",
       "      <th>62853</th>\n",
       "      <td>20210629</td>\n",
       "      <td>36467W109</td>\n",
       "      <td>GME</td>\n",
       "      <td>346542.0</td>\n",
       "      <td>GAMESTOP CORP (HLDG CO) CL A</td>\n",
       "      <td>213.25</td>\n",
       "    </tr>\n",
       "    <tr>\n",
       "      <th>68932</th>\n",
       "      <td>20210630</td>\n",
       "      <td>36467W109</td>\n",
       "      <td>GME</td>\n",
       "      <td>6246.0</td>\n",
       "      <td>GAMESTOP CORP (HLDG CO) CL A</td>\n",
       "      <td>210.88</td>\n",
       "    </tr>\n",
       "  </tbody>\n",
       "</table>\n",
       "</div>"
      ],
      "text/plain": [
       "      SETTLEMENT DATE      CUSIP SYMBOL  QUANTITY (FAILS)  \\\n",
       "8862         20210616  36467W109    GME            3869.0   \n",
       "14697        20210617  36467W109    GME            8690.0   \n",
       "20548        20210618  36467W109    GME          462852.0   \n",
       "26387        20210621  36467W109    GME           13632.0   \n",
       "32639        20210622  36467W109    GME           25276.0   \n",
       "38886        20210623  36467W109    GME           89304.0   \n",
       "44734        20210624  36467W109    GME            1853.0   \n",
       "50626        20210625  36467W109    GME           26507.0   \n",
       "56651        20210628  36467W109    GME          134659.0   \n",
       "62853        20210629  36467W109    GME          346542.0   \n",
       "68932        20210630  36467W109    GME            6246.0   \n",
       "\n",
       "                        DESCRIPTION   PRICE  \n",
       "8862   GAMESTOP CORP (HLDG CO) CL A   222.5  \n",
       "14697  GAMESTOP CORP (HLDG CO) CL A  222.97  \n",
       "20548  GAMESTOP CORP (HLDG CO) CL A  223.59  \n",
       "26387  GAMESTOP CORP (HLDG CO) CL A  213.82  \n",
       "32639  GAMESTOP CORP (HLDG CO) CL A  200.37  \n",
       "38886  GAMESTOP CORP (HLDG CO) CL A   220.4  \n",
       "44734  GAMESTOP CORP (HLDG CO) CL A  219.34  \n",
       "50626  GAMESTOP CORP (HLDG CO) CL A  212.31  \n",
       "56651  GAMESTOP CORP (HLDG CO) CL A  209.51  \n",
       "62853  GAMESTOP CORP (HLDG CO) CL A  213.25  \n",
       "68932  GAMESTOP CORP (HLDG CO) CL A  210.88  "
      ]
     },
     "execution_count": 24,
     "metadata": {},
     "output_type": "execute_result"
    }
   ],
   "source": [
    "ftd = ftd[ftd['CUSIP']=='36467W109']\n",
    "ftd = ftd.sort_values('SETTLEMENT DATE')\n",
    "ftd"
   ]
  },
  {
   "cell_type": "code",
   "execution_count": 22,
   "metadata": {},
   "outputs": [
    {
     "data": {
      "text/plain": [
       "(0.05362117047368348, 0.8755765539560624)"
      ]
     },
     "execution_count": 22,
     "metadata": {},
     "output_type": "execute_result"
    }
   ],
   "source": [
    "pearsonr(ftd['QUANTITY (FAILS)'], ftd['SETTLEMENT DATE'])"
   ]
  },
  {
   "cell_type": "code",
   "execution_count": 21,
   "metadata": {},
   "outputs": [
    {
     "ename": "KeyError",
     "evalue": "'Date'",
     "output_type": "error",
     "traceback": [
      "\u001b[1;31m---------------------------------------------------------------------------\u001b[0m",
      "\u001b[1;31mKeyError\u001b[0m                                  Traceback (most recent call last)",
      "\u001b[1;32m<ipython-input-21-c557ebb7beca>\u001b[0m in \u001b[0;36m<module>\u001b[1;34m\u001b[0m\n\u001b[0;32m      3\u001b[0m \u001b[0mdf\u001b[0m \u001b[1;33m=\u001b[0m \u001b[0mdf\u001b[0m\u001b[1;33m.\u001b[0m\u001b[0mmerge\u001b[0m\u001b[1;33m(\u001b[0m\u001b[0mdoge\u001b[0m\u001b[1;33m,\u001b[0m\u001b[0mon\u001b[0m\u001b[1;33m=\u001b[0m\u001b[1;34m\"Date\"\u001b[0m\u001b[1;33m)\u001b[0m\u001b[1;33m\u001b[0m\u001b[1;33m\u001b[0m\u001b[0m\n\u001b[0;32m      4\u001b[0m \u001b[0mdf\u001b[0m \u001b[1;33m=\u001b[0m \u001b[0mdf\u001b[0m\u001b[1;33m.\u001b[0m\u001b[0mmerge\u001b[0m\u001b[1;33m(\u001b[0m\u001b[0mrr\u001b[0m\u001b[1;33m,\u001b[0m\u001b[0mon\u001b[0m\u001b[1;33m=\u001b[0m\u001b[1;34m\"Date\"\u001b[0m\u001b[1;33m)\u001b[0m\u001b[1;33m\u001b[0m\u001b[1;33m\u001b[0m\u001b[0m\n\u001b[1;32m----> 5\u001b[1;33m \u001b[0mdf\u001b[0m \u001b[1;33m=\u001b[0m \u001b[0mdf\u001b[0m\u001b[1;33m.\u001b[0m\u001b[0mmerge\u001b[0m\u001b[1;33m(\u001b[0m\u001b[0mftd\u001b[0m\u001b[1;33m,\u001b[0m\u001b[0mon\u001b[0m\u001b[1;33m=\u001b[0m\u001b[1;34m\"Date\"\u001b[0m\u001b[1;33m)\u001b[0m\u001b[1;33m\u001b[0m\u001b[1;33m\u001b[0m\u001b[0m\n\u001b[0m",
      "\u001b[1;32m~\\anaconda3\\lib\\site-packages\\pandas\\core\\frame.py\u001b[0m in \u001b[0;36mmerge\u001b[1;34m(self, right, how, on, left_on, right_on, left_index, right_index, sort, suffixes, copy, indicator, validate)\u001b[0m\n\u001b[0;32m   7944\u001b[0m         \u001b[1;32mfrom\u001b[0m \u001b[0mpandas\u001b[0m\u001b[1;33m.\u001b[0m\u001b[0mcore\u001b[0m\u001b[1;33m.\u001b[0m\u001b[0mreshape\u001b[0m\u001b[1;33m.\u001b[0m\u001b[0mmerge\u001b[0m \u001b[1;32mimport\u001b[0m \u001b[0mmerge\u001b[0m\u001b[1;33m\u001b[0m\u001b[1;33m\u001b[0m\u001b[0m\n\u001b[0;32m   7945\u001b[0m \u001b[1;33m\u001b[0m\u001b[0m\n\u001b[1;32m-> 7946\u001b[1;33m         return merge(\n\u001b[0m\u001b[0;32m   7947\u001b[0m             \u001b[0mself\u001b[0m\u001b[1;33m,\u001b[0m\u001b[1;33m\u001b[0m\u001b[1;33m\u001b[0m\u001b[0m\n\u001b[0;32m   7948\u001b[0m             \u001b[0mright\u001b[0m\u001b[1;33m,\u001b[0m\u001b[1;33m\u001b[0m\u001b[1;33m\u001b[0m\u001b[0m\n",
      "\u001b[1;32m~\\anaconda3\\lib\\site-packages\\pandas\\core\\reshape\\merge.py\u001b[0m in \u001b[0;36mmerge\u001b[1;34m(left, right, how, on, left_on, right_on, left_index, right_index, sort, suffixes, copy, indicator, validate)\u001b[0m\n\u001b[0;32m     72\u001b[0m     \u001b[0mvalidate\u001b[0m\u001b[1;33m=\u001b[0m\u001b[1;32mNone\u001b[0m\u001b[1;33m,\u001b[0m\u001b[1;33m\u001b[0m\u001b[1;33m\u001b[0m\u001b[0m\n\u001b[0;32m     73\u001b[0m ) -> \"DataFrame\":\n\u001b[1;32m---> 74\u001b[1;33m     op = _MergeOperation(\n\u001b[0m\u001b[0;32m     75\u001b[0m         \u001b[0mleft\u001b[0m\u001b[1;33m,\u001b[0m\u001b[1;33m\u001b[0m\u001b[1;33m\u001b[0m\u001b[0m\n\u001b[0;32m     76\u001b[0m         \u001b[0mright\u001b[0m\u001b[1;33m,\u001b[0m\u001b[1;33m\u001b[0m\u001b[1;33m\u001b[0m\u001b[0m\n",
      "\u001b[1;32m~\\anaconda3\\lib\\site-packages\\pandas\\core\\reshape\\merge.py\u001b[0m in \u001b[0;36m__init__\u001b[1;34m(self, left, right, how, on, left_on, right_on, axis, left_index, right_index, sort, suffixes, copy, indicator, validate)\u001b[0m\n\u001b[0;32m    650\u001b[0m             \u001b[0mself\u001b[0m\u001b[1;33m.\u001b[0m\u001b[0mright_join_keys\u001b[0m\u001b[1;33m,\u001b[0m\u001b[1;33m\u001b[0m\u001b[1;33m\u001b[0m\u001b[0m\n\u001b[0;32m    651\u001b[0m             \u001b[0mself\u001b[0m\u001b[1;33m.\u001b[0m\u001b[0mjoin_names\u001b[0m\u001b[1;33m,\u001b[0m\u001b[1;33m\u001b[0m\u001b[1;33m\u001b[0m\u001b[0m\n\u001b[1;32m--> 652\u001b[1;33m         ) = self._get_merge_keys()\n\u001b[0m\u001b[0;32m    653\u001b[0m \u001b[1;33m\u001b[0m\u001b[0m\n\u001b[0;32m    654\u001b[0m         \u001b[1;31m# validate the merge keys dtypes. We may need to coerce\u001b[0m\u001b[1;33m\u001b[0m\u001b[1;33m\u001b[0m\u001b[1;33m\u001b[0m\u001b[0m\n",
      "\u001b[1;32m~\\anaconda3\\lib\\site-packages\\pandas\\core\\reshape\\merge.py\u001b[0m in \u001b[0;36m_get_merge_keys\u001b[1;34m(self)\u001b[0m\n\u001b[0;32m   1003\u001b[0m                     \u001b[1;32mif\u001b[0m \u001b[1;32mnot\u001b[0m \u001b[0mis_rkey\u001b[0m\u001b[1;33m(\u001b[0m\u001b[0mrk\u001b[0m\u001b[1;33m)\u001b[0m\u001b[1;33m:\u001b[0m\u001b[1;33m\u001b[0m\u001b[1;33m\u001b[0m\u001b[0m\n\u001b[0;32m   1004\u001b[0m                         \u001b[1;32mif\u001b[0m \u001b[0mrk\u001b[0m \u001b[1;32mis\u001b[0m \u001b[1;32mnot\u001b[0m \u001b[1;32mNone\u001b[0m\u001b[1;33m:\u001b[0m\u001b[1;33m\u001b[0m\u001b[1;33m\u001b[0m\u001b[0m\n\u001b[1;32m-> 1005\u001b[1;33m                             \u001b[0mright_keys\u001b[0m\u001b[1;33m.\u001b[0m\u001b[0mappend\u001b[0m\u001b[1;33m(\u001b[0m\u001b[0mright\u001b[0m\u001b[1;33m.\u001b[0m\u001b[0m_get_label_or_level_values\u001b[0m\u001b[1;33m(\u001b[0m\u001b[0mrk\u001b[0m\u001b[1;33m)\u001b[0m\u001b[1;33m)\u001b[0m\u001b[1;33m\u001b[0m\u001b[1;33m\u001b[0m\u001b[0m\n\u001b[0m\u001b[0;32m   1006\u001b[0m                         \u001b[1;32melse\u001b[0m\u001b[1;33m:\u001b[0m\u001b[1;33m\u001b[0m\u001b[1;33m\u001b[0m\u001b[0m\n\u001b[0;32m   1007\u001b[0m                             \u001b[1;31m# work-around for merge_asof(right_index=True)\u001b[0m\u001b[1;33m\u001b[0m\u001b[1;33m\u001b[0m\u001b[1;33m\u001b[0m\u001b[0m\n",
      "\u001b[1;32m~\\anaconda3\\lib\\site-packages\\pandas\\core\\generic.py\u001b[0m in \u001b[0;36m_get_label_or_level_values\u001b[1;34m(self, key, axis)\u001b[0m\n\u001b[0;32m   1561\u001b[0m             \u001b[0mvalues\u001b[0m \u001b[1;33m=\u001b[0m \u001b[0mself\u001b[0m\u001b[1;33m.\u001b[0m\u001b[0maxes\u001b[0m\u001b[1;33m[\u001b[0m\u001b[0maxis\u001b[0m\u001b[1;33m]\u001b[0m\u001b[1;33m.\u001b[0m\u001b[0mget_level_values\u001b[0m\u001b[1;33m(\u001b[0m\u001b[0mkey\u001b[0m\u001b[1;33m)\u001b[0m\u001b[1;33m.\u001b[0m\u001b[0m_values\u001b[0m\u001b[1;33m\u001b[0m\u001b[1;33m\u001b[0m\u001b[0m\n\u001b[0;32m   1562\u001b[0m         \u001b[1;32melse\u001b[0m\u001b[1;33m:\u001b[0m\u001b[1;33m\u001b[0m\u001b[1;33m\u001b[0m\u001b[0m\n\u001b[1;32m-> 1563\u001b[1;33m             \u001b[1;32mraise\u001b[0m \u001b[0mKeyError\u001b[0m\u001b[1;33m(\u001b[0m\u001b[0mkey\u001b[0m\u001b[1;33m)\u001b[0m\u001b[1;33m\u001b[0m\u001b[1;33m\u001b[0m\u001b[0m\n\u001b[0m\u001b[0;32m   1564\u001b[0m \u001b[1;33m\u001b[0m\u001b[0m\n\u001b[0;32m   1565\u001b[0m         \u001b[1;31m# Check for duplicates\u001b[0m\u001b[1;33m\u001b[0m\u001b[1;33m\u001b[0m\u001b[1;33m\u001b[0m\u001b[0m\n",
      "\u001b[1;31mKeyError\u001b[0m: 'Date'"
     ]
    }
   ],
   "source": [
    "df = gme.merge(btc,on=\"Date\")\n",
    "df = df.merge(amc,on=\"Date\")\n",
    "df = df.merge(doge,on=\"Date\")\n",
    "df = df.merge(rr,on=\"Date\")\n",
    "df = df.merge(ftd,on=\"Date\")\n"
   ]
  },
  {
   "cell_type": "code",
   "execution_count": null,
   "metadata": {
    "scrolled": true
   },
   "outputs": [],
   "source": [
    "df"
   ]
  },
  {
   "cell_type": "code",
   "execution_count": null,
   "metadata": {
    "scrolled": true
   },
   "outputs": [],
   "source": [
    "df.info()"
   ]
  },
  {
   "cell_type": "code",
   "execution_count": null,
   "metadata": {},
   "outputs": [],
   "source": [
    "\n",
    "\n"
   ]
  },
  {
   "cell_type": "code",
   "execution_count": null,
   "metadata": {},
   "outputs": [],
   "source": [
    "df.corr(method='spearman').style.background_gradient(cmap='coolwarm')"
   ]
  },
  {
   "cell_type": "code",
   "execution_count": null,
   "metadata": {},
   "outputs": [],
   "source": [
    "sns.lineplot(data=df,x='Date',y='gmeHigh')\n",
    "sns.lineplot(data=df,x='Date',y='RRPONTSYD')\n",
    "sns.lineplot(data=df,x='Date',y='gmeLow')\n"
   ]
  },
  {
   "cell_type": "code",
   "execution_count": null,
   "metadata": {},
   "outputs": [],
   "source": [
    "df['date']>"
   ]
  },
  {
   "cell_type": "code",
   "execution_count": null,
   "metadata": {},
   "outputs": [],
   "source": [
    "sns.lineplot(data=gme,x='Open',y='Close')"
   ]
  },
  {
   "cell_type": "code",
   "execution_count": null,
   "metadata": {},
   "outputs": [],
   "source": [
    "sns.lineplot(data=gme,x='Date',y='Volume')"
   ]
  },
  {
   "cell_type": "code",
   "execution_count": null,
   "metadata": {},
   "outputs": [],
   "source": [
    "sns.lineplot(data=gme,x='Date',y='High')"
   ]
  },
  {
   "cell_type": "code",
   "execution_count": null,
   "metadata": {},
   "outputs": [],
   "source": [
    "sns.lineplot(data=gme,x='Date',y='Low')\n",
    "sns.lineplot(data=gme,x='Date',y='High')\n",
    "sns.lineplot(data=gme,x='Date',y='Open')"
   ]
  },
  {
   "cell_type": "code",
   "execution_count": null,
   "metadata": {},
   "outputs": [],
   "source": [
    "sns.lineplot(data=gme,x='Date',y='Volume')"
   ]
  },
  {
   "cell_type": "code",
   "execution_count": null,
   "metadata": {},
   "outputs": [],
   "source": [
    "gme.corr(method='spearman').style.background_gradient(cmap='coolwarm')"
   ]
  },
  {
   "cell_type": "code",
   "execution_count": null,
   "metadata": {},
   "outputs": [],
   "source": []
  }
 ],
 "metadata": {
  "kernelspec": {
   "display_name": "Python 3",
   "language": "python",
   "name": "python3"
  },
  "language_info": {
   "codemirror_mode": {
    "name": "ipython",
    "version": 3
   },
   "file_extension": ".py",
   "mimetype": "text/x-python",
   "name": "python",
   "nbconvert_exporter": "python",
   "pygments_lexer": "ipython3",
   "version": "3.8.5"
  }
 },
 "nbformat": 4,
 "nbformat_minor": 4
}
